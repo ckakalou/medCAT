{
  "nbformat": 4,
  "nbformat_minor": 0,
  "metadata": {
    "colab": {
      "name": "MedCAT Tutorial | Part 3.2 - Extracting Diseases from Electronic Health Records.ipynb",
      "provenance": [],
      "collapsed_sections": [],
      "include_colab_link": true
    },
    "kernelspec": {
      "display_name": "Python 3",
      "language": "python",
      "name": "python3"
    },
    "language_info": {
      "codemirror_mode": {
        "name": "ipython",
        "version": 3
      },
      "file_extension": ".py",
      "mimetype": "text/x-python",
      "name": "python",
      "nbconvert_exporter": "python",
      "pygments_lexer": "ipython3",
      "version": "3.7.0"
    },
    "accelerator": "GPU"
  },
  "cells": [
    {
      "cell_type": "markdown",
      "metadata": {
        "id": "view-in-github",
        "colab_type": "text"
      },
      "source": [
        "<a href=\"https://colab.research.google.com/github/ckakalou/medCAT/blob/main/MedCAT_Tutorial_%7C_Part_3_2_Extracting_Diseases_from_Electronic_Health_Records.ipynb\" target=\"_parent\"><img src=\"https://colab.research.google.com/assets/colab-badge.svg\" alt=\"Open In Colab\"/></a>"
      ]
    },
    {
      "cell_type": "code",
      "metadata": {
        "colab": {
          "base_uri": "https://localhost:8080/"
        },
        "id": "OAxIpkCiaiC2",
        "outputId": "4945349b-7fcf-416c-a052-49211e52de31"
      },
      "source": [
        "! pip install --upgrade medcat\n",
        "# Get the scispacy model\n",
        "! pip install https://s3-us-west-2.amazonaws.com/ai2-s2-scispacy/releases/v0.3.0/en_core_sci_lg-0.3.0.tar.gz"
      ],
      "execution_count": null,
      "outputs": [
        {
          "output_type": "stream",
          "text": [
            "Collecting medcat\n",
            "\u001b[?25l  Downloading https://files.pythonhosted.org/packages/ca/b5/62d61238e8929b5ee718e7bb8fed7559702f10c32c3309ebb23d075c64bd/medcat-1.0.33-py3-none-any.whl (125kB)\n",
            "\u001b[K     |████████████████████████████████| 133kB 14.2MB/s \n",
            "\u001b[?25hRequirement already satisfied, skipping upgrade: dill~=0.3.3 in /usr/local/lib/python3.7/dist-packages (from medcat) (0.3.3)\n",
            "Requirement already satisfied, skipping upgrade: pandas~=1.0 in /usr/local/lib/python3.7/dist-packages (from medcat) (1.1.5)\n",
            "Collecting elasticsearch~=7.10\n",
            "\u001b[?25l  Downloading https://files.pythonhosted.org/packages/ab/b1/58cfb0bf54e29c20669d6e588496fb7fe8b54f53bc238be4cb0a185a1e76/elasticsearch-7.13.1-py2.py3-none-any.whl (354kB)\n",
            "\u001b[K     |████████████████████████████████| 358kB 23.7MB/s \n",
            "\u001b[?25hRequirement already satisfied, skipping upgrade: Flask~=1.1 in /usr/local/lib/python3.7/dist-packages (from medcat) (1.1.4)\n",
            "Collecting spacy==2.3.4\n",
            "\u001b[?25l  Downloading https://files.pythonhosted.org/packages/51/92/ce37391be0980e03cdef9dab057c95561dacb36937bd6941c3204b40f5ca/spacy-2.3.4-cp37-cp37m-manylinux2014_x86_64.whl (10.4MB)\n",
            "\u001b[K     |████████████████████████████████| 10.4MB 17.2MB/s \n",
            "\u001b[?25hRequirement already satisfied, skipping upgrade: sklearn~=0.0 in /usr/local/lib/python3.7/dist-packages (from medcat) (0.0)\n",
            "Collecting numpy~=1.20\n",
            "\u001b[?25l  Downloading https://files.pythonhosted.org/packages/a5/42/560d269f604d3e186a57c21a363e77e199358d054884e61b73e405dd217c/numpy-1.20.3-cp37-cp37m-manylinux_2_12_x86_64.manylinux2010_x86_64.whl (15.3MB)\n",
            "\u001b[K     |████████████████████████████████| 15.3MB 186kB/s \n",
            "\u001b[?25hCollecting datasets~=1.6.0\n",
            "\u001b[?25l  Downloading https://files.pythonhosted.org/packages/46/1a/b9f9b3bfef624686ae81c070f0a6bb635047b17cdb3698c7ad01281e6f9a/datasets-1.6.2-py3-none-any.whl (221kB)\n",
            "\u001b[K     |████████████████████████████████| 225kB 36.7MB/s \n",
            "\u001b[?25hRequirement already satisfied, skipping upgrade: torch~=1.8.1 in /usr/local/lib/python3.7/dist-packages (from medcat) (1.8.1+cu101)\n",
            "Collecting transformers~=4.5.1\n",
            "\u001b[?25l  Downloading https://files.pythonhosted.org/packages/d8/b2/57495b5309f09fa501866e225c84532d1fd89536ea62406b2181933fb418/transformers-4.5.1-py3-none-any.whl (2.1MB)\n",
            "\u001b[K     |████████████████████████████████| 2.1MB 31.1MB/s \n",
            "\u001b[?25hCollecting scipy~=1.5\n",
            "\u001b[?25l  Downloading https://files.pythonhosted.org/packages/7d/e8/43ffca541d2f208d516296950b25fe1084b35c2881f4d444c1346ca75815/scipy-1.6.3-cp37-cp37m-manylinux1_x86_64.whl (27.4MB)\n",
            "\u001b[K     |████████████████████████████████| 27.4MB 117kB/s \n",
            "\u001b[?25hCollecting gensim~=3.8\n",
            "\u001b[?25l  Downloading https://files.pythonhosted.org/packages/5c/4e/afe2315e08a38967f8a3036bbe7e38b428e9b7a90e823a83d0d49df1adf5/gensim-3.8.3-cp37-cp37m-manylinux1_x86_64.whl (24.2MB)\n",
            "\u001b[K     |████████████████████████████████| 24.2MB 118kB/s \n",
            "\u001b[?25hRequirement already satisfied, skipping upgrade: pytz>=2017.2 in /usr/local/lib/python3.7/dist-packages (from pandas~=1.0->medcat) (2018.9)\n",
            "Requirement already satisfied, skipping upgrade: python-dateutil>=2.7.3 in /usr/local/lib/python3.7/dist-packages (from pandas~=1.0->medcat) (2.8.1)\n",
            "Requirement already satisfied, skipping upgrade: certifi in /usr/local/lib/python3.7/dist-packages (from elasticsearch~=7.10->medcat) (2021.5.30)\n",
            "Requirement already satisfied, skipping upgrade: urllib3<2,>=1.21.1 in /usr/local/lib/python3.7/dist-packages (from elasticsearch~=7.10->medcat) (1.24.3)\n",
            "Requirement already satisfied, skipping upgrade: click<8.0,>=5.1 in /usr/local/lib/python3.7/dist-packages (from Flask~=1.1->medcat) (7.1.2)\n",
            "Requirement already satisfied, skipping upgrade: Werkzeug<2.0,>=0.15 in /usr/local/lib/python3.7/dist-packages (from Flask~=1.1->medcat) (1.0.1)\n",
            "Requirement already satisfied, skipping upgrade: itsdangerous<2.0,>=0.24 in /usr/local/lib/python3.7/dist-packages (from Flask~=1.1->medcat) (1.1.0)\n",
            "Requirement already satisfied, skipping upgrade: Jinja2<3.0,>=2.10.1 in /usr/local/lib/python3.7/dist-packages (from Flask~=1.1->medcat) (2.11.3)\n",
            "Requirement already satisfied, skipping upgrade: preshed<3.1.0,>=3.0.2 in /usr/local/lib/python3.7/dist-packages (from spacy==2.3.4->medcat) (3.0.5)\n",
            "Collecting thinc<7.5.0,>=7.4.1\n",
            "\u001b[?25l  Downloading https://files.pythonhosted.org/packages/9a/92/71ab278f865f7565c37ed6917d0f23342e4f9a0633013113bd435cf0a691/thinc-7.4.5-cp37-cp37m-manylinux2014_x86_64.whl (1.0MB)\n",
            "\u001b[K     |████████████████████████████████| 1.1MB 25.5MB/s \n",
            "\u001b[?25hRequirement already satisfied, skipping upgrade: setuptools in /usr/local/lib/python3.7/dist-packages (from spacy==2.3.4->medcat) (57.0.0)\n",
            "Requirement already satisfied, skipping upgrade: catalogue<1.1.0,>=0.0.7 in /usr/local/lib/python3.7/dist-packages (from spacy==2.3.4->medcat) (1.0.0)\n",
            "Requirement already satisfied, skipping upgrade: murmurhash<1.1.0,>=0.28.0 in /usr/local/lib/python3.7/dist-packages (from spacy==2.3.4->medcat) (1.0.5)\n",
            "Requirement already satisfied, skipping upgrade: plac<1.2.0,>=0.9.6 in /usr/local/lib/python3.7/dist-packages (from spacy==2.3.4->medcat) (1.1.3)\n",
            "Requirement already satisfied, skipping upgrade: tqdm<5.0.0,>=4.38.0 in /usr/local/lib/python3.7/dist-packages (from spacy==2.3.4->medcat) (4.41.1)\n",
            "Requirement already satisfied, skipping upgrade: requests<3.0.0,>=2.13.0 in /usr/local/lib/python3.7/dist-packages (from spacy==2.3.4->medcat) (2.23.0)\n",
            "Requirement already satisfied, skipping upgrade: blis<0.8.0,>=0.4.0; python_version >= \"3.6\" in /usr/local/lib/python3.7/dist-packages (from spacy==2.3.4->medcat) (0.4.1)\n",
            "Requirement already satisfied, skipping upgrade: cymem<2.1.0,>=2.0.2 in /usr/local/lib/python3.7/dist-packages (from spacy==2.3.4->medcat) (2.0.5)\n",
            "Requirement already satisfied, skipping upgrade: srsly<1.1.0,>=1.0.2 in /usr/local/lib/python3.7/dist-packages (from spacy==2.3.4->medcat) (1.0.5)\n",
            "Requirement already satisfied, skipping upgrade: wasabi<1.1.0,>=0.4.0 in /usr/local/lib/python3.7/dist-packages (from spacy==2.3.4->medcat) (0.8.2)\n",
            "Requirement already satisfied, skipping upgrade: scikit-learn in /usr/local/lib/python3.7/dist-packages (from sklearn~=0.0->medcat) (0.22.2.post1)\n",
            "Requirement already satisfied, skipping upgrade: multiprocess in /usr/local/lib/python3.7/dist-packages (from datasets~=1.6.0->medcat) (0.70.11.1)\n",
            "Collecting huggingface-hub<0.1.0\n",
            "  Downloading https://files.pythonhosted.org/packages/3c/e3/fb7b6aefaf0fc7b792cebbbd590b1895c022ab0ff27f389e1019c6f2e68a/huggingface_hub-0.0.10-py3-none-any.whl\n",
            "Requirement already satisfied, skipping upgrade: importlib-metadata; python_version < \"3.8\" in /usr/local/lib/python3.7/dist-packages (from datasets~=1.6.0->medcat) (4.5.0)\n",
            "Requirement already satisfied, skipping upgrade: packaging in /usr/local/lib/python3.7/dist-packages (from datasets~=1.6.0->medcat) (20.9)\n",
            "Requirement already satisfied, skipping upgrade: pyarrow>=1.0.0<4.0.0 in /usr/local/lib/python3.7/dist-packages (from datasets~=1.6.0->medcat) (3.0.0)\n",
            "Collecting fsspec\n",
            "\u001b[?25l  Downloading https://files.pythonhosted.org/packages/8e/d2/d05466997f7751a2c06a7a416b7d1f131d765f7916698d3fdcb3a4d037e5/fsspec-2021.6.0-py3-none-any.whl (114kB)\n",
            "\u001b[K     |████████████████████████████████| 122kB 41.1MB/s \n",
            "\u001b[?25hCollecting xxhash\n",
            "\u001b[?25l  Downloading https://files.pythonhosted.org/packages/7d/4f/0a862cad26aa2ed7a7cd87178cbbfa824fc1383e472d63596a0d018374e7/xxhash-2.0.2-cp37-cp37m-manylinux2010_x86_64.whl (243kB)\n",
            "\u001b[K     |████████████████████████████████| 245kB 45.8MB/s \n",
            "\u001b[?25hRequirement already satisfied, skipping upgrade: typing-extensions in /usr/local/lib/python3.7/dist-packages (from torch~=1.8.1->medcat) (3.7.4.3)\n",
            "Requirement already satisfied, skipping upgrade: filelock in /usr/local/lib/python3.7/dist-packages (from transformers~=4.5.1->medcat) (3.0.12)\n",
            "Collecting sacremoses\n",
            "\u001b[?25l  Downloading https://files.pythonhosted.org/packages/75/ee/67241dc87f266093c533a2d4d3d69438e57d7a90abb216fa076e7d475d4a/sacremoses-0.0.45-py3-none-any.whl (895kB)\n",
            "\u001b[K     |████████████████████████████████| 901kB 27.6MB/s \n",
            "\u001b[?25hRequirement already satisfied, skipping upgrade: regex!=2019.12.17 in /usr/local/lib/python3.7/dist-packages (from transformers~=4.5.1->medcat) (2019.12.20)\n",
            "Collecting tokenizers<0.11,>=0.10.1\n",
            "\u001b[?25l  Downloading https://files.pythonhosted.org/packages/d4/e2/df3543e8ffdab68f5acc73f613de9c2b155ac47f162e725dcac87c521c11/tokenizers-0.10.3-cp37-cp37m-manylinux_2_5_x86_64.manylinux1_x86_64.manylinux_2_12_x86_64.manylinux2010_x86_64.whl (3.3MB)\n",
            "\u001b[K     |████████████████████████████████| 3.3MB 32.6MB/s \n",
            "\u001b[?25hRequirement already satisfied, skipping upgrade: smart-open>=1.8.1 in /usr/local/lib/python3.7/dist-packages (from gensim~=3.8->medcat) (5.1.0)\n",
            "Requirement already satisfied, skipping upgrade: six>=1.5.0 in /usr/local/lib/python3.7/dist-packages (from gensim~=3.8->medcat) (1.15.0)\n",
            "Requirement already satisfied, skipping upgrade: MarkupSafe>=0.23 in /usr/local/lib/python3.7/dist-packages (from Jinja2<3.0,>=2.10.1->Flask~=1.1->medcat) (2.0.1)\n",
            "Requirement already satisfied, skipping upgrade: idna<3,>=2.5 in /usr/local/lib/python3.7/dist-packages (from requests<3.0.0,>=2.13.0->spacy==2.3.4->medcat) (2.10)\n",
            "Requirement already satisfied, skipping upgrade: chardet<4,>=3.0.2 in /usr/local/lib/python3.7/dist-packages (from requests<3.0.0,>=2.13.0->spacy==2.3.4->medcat) (3.0.4)\n",
            "Requirement already satisfied, skipping upgrade: joblib>=0.11 in /usr/local/lib/python3.7/dist-packages (from scikit-learn->sklearn~=0.0->medcat) (1.0.1)\n",
            "Requirement already satisfied, skipping upgrade: zipp>=0.5 in /usr/local/lib/python3.7/dist-packages (from importlib-metadata; python_version < \"3.8\"->datasets~=1.6.0->medcat) (3.4.1)\n",
            "Requirement already satisfied, skipping upgrade: pyparsing>=2.0.2 in /usr/local/lib/python3.7/dist-packages (from packaging->datasets~=1.6.0->medcat) (2.4.7)\n",
            "\u001b[31mERROR: tensorflow 2.5.0 has requirement numpy~=1.19.2, but you'll have numpy 1.20.3 which is incompatible.\u001b[0m\n",
            "\u001b[31mERROR: datascience 0.10.6 has requirement folium==0.2.1, but you'll have folium 0.8.3 which is incompatible.\u001b[0m\n",
            "\u001b[31mERROR: albumentations 0.1.12 has requirement imgaug<0.2.7,>=0.2.5, but you'll have imgaug 0.2.9 which is incompatible.\u001b[0m\n",
            "Installing collected packages: elasticsearch, numpy, thinc, spacy, huggingface-hub, fsspec, xxhash, datasets, sacremoses, tokenizers, transformers, scipy, gensim, medcat\n",
            "  Found existing installation: numpy 1.19.5\n",
            "    Uninstalling numpy-1.19.5:\n",
            "      Successfully uninstalled numpy-1.19.5\n",
            "  Found existing installation: thinc 7.4.0\n",
            "    Uninstalling thinc-7.4.0:\n",
            "      Successfully uninstalled thinc-7.4.0\n",
            "  Found existing installation: spacy 2.2.4\n",
            "    Uninstalling spacy-2.2.4:\n",
            "      Successfully uninstalled spacy-2.2.4\n"
          ],
          "name": "stdout"
        }
      ]
    },
    {
      "cell_type": "markdown",
      "metadata": {
        "id": "3OLVuMJE03da"
      },
      "source": [
        "**Restart the runtime if on colab, sometimes necessary after installing models**"
      ]
    },
    {
      "cell_type": "code",
      "metadata": {
        "id": "lho2dmm1VffS"
      },
      "source": [
        "import pandas as pd\n",
        "import numpy as np\n",
        "import pickle\n",
        "import seaborn as sns\n",
        "from matplotlib import pyplot as plt\n",
        "\n",
        "from medcat.vocab import Vocab\n",
        "from medcat.cdb import CDB\n",
        "from medcat.config import Config\n",
        "from medcat.cdb_maker import CDBMaker\n",
        "from medcat.cat import CAT"
      ],
      "execution_count": null,
      "outputs": []
    },
    {
      "cell_type": "code",
      "metadata": {
        "id": "VH8L597aVffZ"
      },
      "source": [
        "DATA_DIR = \"./data/\"\n",
        "vocab_path = DATA_DIR + \"vocab.dat\"\n",
        "cdb_path = DATA_DIR + \"cdb-medmen-v1.dat\""
      ],
      "execution_count": null,
      "outputs": []
    },
    {
      "cell_type": "code",
      "metadata": {
        "colab": {
          "base_uri": "https://localhost:8080/"
        },
        "id": "km-Va8uvbEYd",
        "outputId": "b5c7bc02-da94-4eef-febc-a48541f26658"
      },
      "source": [
        "# Download the models and required data\n",
        "!wget https://medcat.rosalind.kcl.ac.uk/media/vocab.dat -P ./data/\n",
        "!wget https://medcat.rosalind.kcl.ac.uk/media/cdb-medmen-v1.dat -P ./data/\n",
        "!wget https://raw.githubusercontent.com/CogStack/MedCAT/master/tutorial/data/pt_notes.csv -P ./data/"
      ],
      "execution_count": null,
      "outputs": [
        {
          "output_type": "stream",
          "text": [
            "--2021-06-10 21:54:25--  https://medcat.rosalind.kcl.ac.uk/media/vocab.dat\n",
            "Resolving medcat.rosalind.kcl.ac.uk (medcat.rosalind.kcl.ac.uk)... 193.61.202.225\n",
            "Connecting to medcat.rosalind.kcl.ac.uk (medcat.rosalind.kcl.ac.uk)|193.61.202.225|:443... connected.\n",
            "HTTP request sent, awaiting response... 200 OK\n",
            "Length: 274445907 (262M) [application/octet-stream]\n",
            "Saving to: ‘./data/vocab.dat’\n",
            "\n",
            "vocab.dat           100%[===================>] 261.73M  21.3MB/s    in 14s     \n",
            "\n",
            "2021-06-10 21:54:39 (19.1 MB/s) - ‘./data/vocab.dat’ saved [274445907/274445907]\n",
            "\n",
            "--2021-06-10 21:54:39--  https://medcat.rosalind.kcl.ac.uk/media/cdb-medmen-v1.dat\n",
            "Resolving medcat.rosalind.kcl.ac.uk (medcat.rosalind.kcl.ac.uk)... 193.61.202.225\n",
            "Connecting to medcat.rosalind.kcl.ac.uk (medcat.rosalind.kcl.ac.uk)|193.61.202.225|:443... connected.\n",
            "HTTP request sent, awaiting response... 200 OK\n",
            "Length: 356087008 (340M) [application/octet-stream]\n",
            "Saving to: ‘./data/cdb-medmen-v1.dat’\n",
            "\n",
            "cdb-medmen-v1.dat   100%[===================>] 339.59M  20.9MB/s    in 18s     \n",
            "\n",
            "2021-06-10 21:54:58 (18.5 MB/s) - ‘./data/cdb-medmen-v1.dat’ saved [356087008/356087008]\n",
            "\n",
            "--2021-06-10 21:54:58--  https://raw.githubusercontent.com/CogStack/MedCAT/master/tutorial/data/pt_notes.csv\n",
            "Resolving raw.githubusercontent.com (raw.githubusercontent.com)... 185.199.109.133, 185.199.111.133, 185.199.110.133, ...\n",
            "Connecting to raw.githubusercontent.com (raw.githubusercontent.com)|185.199.109.133|:443... connected.\n",
            "HTTP request sent, awaiting response... 200 OK\n",
            "Length: 3644222 (3.5M) [text/plain]\n",
            "Saving to: ‘./data/pt_notes.csv’\n",
            "\n",
            "pt_notes.csv        100%[===================>]   3.47M  --.-KB/s    in 0.09s   \n",
            "\n",
            "2021-06-10 21:54:59 (38.5 MB/s) - ‘./data/pt_notes.csv’ saved [3644222/3644222]\n",
            "\n"
          ],
          "name": "stdout"
        }
      ]
    },
    {
      "cell_type": "markdown",
      "metadata": {
        "id": "_thSfOjVVffc"
      },
      "source": [
        "## Loading models and preparing MedCAT"
      ]
    },
    {
      "cell_type": "code",
      "metadata": {
        "id": "LFgIA5tSVffd"
      },
      "source": [
        "# Create and load the CDB (Concept Database)\n",
        "cdb = CDB.load(cdb_path)\n",
        "\n",
        "# Create and load the Vocabulary\n",
        "vocab = Vocab.load(vocab_path)"
      ],
      "execution_count": null,
      "outputs": []
    },
    {
      "cell_type": "code",
      "metadata": {
        "id": "l1nWKI96Vffg"
      },
      "source": [
        "# Set a couple of parameters, they are usually set via environments, but\n",
        "#here we will do it explicitly. You can read more about each option in the \n",
        "#medcat repository: https://github.com/CogStack/MedCAT\n",
        "cdb.config.ner['min_name_len'] = 2\n",
        "cdb.config.ner['upper_case_limit_len'] = 3\n",
        "cdb.config.general['spell_check'] = True\n",
        "cdb.config.linking['train_count_threshold'] = 10\n",
        "cdb.config.linking['similarity_threshold'] = 0.3\n",
        "cdb.config.linking['train'] = True\n",
        "cdb.config.linking['disamb_length_limit'] = 5\n",
        "cdb.config.general['full_unlink'] = True\n",
        "\n",
        "\n",
        "# Create CAT - the main class from medcat used for concept annotation\n",
        "cat = CAT(cdb=cdb, config=cdb.config, vocab=vocab)"
      ],
      "execution_count": null,
      "outputs": []
    },
    {
      "cell_type": "markdown",
      "metadata": {
        "id": "f7VxmscmVffi"
      },
      "source": [
        "## Testing NER+L"
      ]
    },
    {
      "cell_type": "code",
      "metadata": {
        "colab": {
          "base_uri": "https://localhost:8080/"
        },
        "id": "7_L4-zPPVffj",
        "outputId": "b2d62df8-4503-4091-fd3c-74a71a777cf7"
      },
      "source": [
        "text = \"He was diagnosed with kidney failure\"\n",
        "doc = cat(text)\n",
        "print(doc.ents)"
      ],
      "execution_count": null,
      "outputs": [
        {
          "output_type": "stream",
          "text": [
            "(diagnosed, kidney failure)\n"
          ],
          "name": "stdout"
        }
      ]
    },
    {
      "cell_type": "code",
      "metadata": {
        "colab": {
          "base_uri": "https://localhost:8080/"
        },
        "id": "wX64EAXGuEi3",
        "outputId": "574cc31e-862a-49be-ecfc-217a7c7c1e0f"
      },
      "source": [
        "# To see all entities and corresponding meta-data\n",
        "cat.get_entities(\"He was diagnosed with kidney failure\", only_cui=False)"
      ],
      "execution_count": null,
      "outputs": [
        {
          "output_type": "execute_result",
          "data": {
            "text/plain": [
              "{'entities': {0: {'acc': 0.22160544957937056,\n",
              "   'context_similarity': 0.22160544957937056,\n",
              "   'cui': 'C1704656',\n",
              "   'detected_name': 'diagnosed',\n",
              "   'end': 16,\n",
              "   'icd10': [],\n",
              "   'id': 0,\n",
              "   'meta_anns': {},\n",
              "   'ontologies': [],\n",
              "   'pretty_name': 'Diagnosis Study',\n",
              "   'snomed': [],\n",
              "   'source_value': 'diagnosed',\n",
              "   'start': 7,\n",
              "   'tuis': ['T062'],\n",
              "   'types': ['Research Activity']},\n",
              "  2: {'acc': 1.0,\n",
              "   'context_similarity': 1.0,\n",
              "   'cui': 'C0035078',\n",
              "   'detected_name': 'kidney~failure',\n",
              "   'end': 36,\n",
              "   'icd10': [],\n",
              "   'id': 2,\n",
              "   'meta_anns': {},\n",
              "   'ontologies': [],\n",
              "   'pretty_name': 'Kidney Failure',\n",
              "   'snomed': [],\n",
              "   'source_value': 'kidney failure',\n",
              "   'start': 22,\n",
              "   'tuis': ['T047'],\n",
              "   'types': ['Disease or Syndrome']}},\n",
              " 'tokens': []}"
            ]
          },
          "metadata": {
            "tags": []
          },
          "execution_count": 7
        }
      ]
    },
    {
      "cell_type": "code",
      "metadata": {
        "colab": {
          "base_uri": "https://localhost:8080/"
        },
        "id": "kDN04vBbVffl",
        "outputId": "de163b55-8c6b-453d-f94e-b3705ea0fb02"
      },
      "source": [
        "# If we want to see the CUI (ID) for each entity\n",
        "for ent in doc.ents:\n",
        "    print(ent, \" - \", ent._.cui)"
      ],
      "execution_count": null,
      "outputs": [
        {
          "output_type": "stream",
          "text": [
            "diagnosed  -  C1704656\n",
            "kidney failure  -  C0035078\n"
          ],
          "name": "stdout"
        }
      ]
    },
    {
      "cell_type": "code",
      "metadata": {
        "colab": {
          "base_uri": "https://localhost:8080/"
        },
        "id": "ggj45cnLcAgh",
        "outputId": "2a6794fe-c978-43d5-d71d-d1ad25d5d414"
      },
      "source": [
        "# To show semantic types for each entity\n",
        "for ent in doc.ents:\n",
        "  print(ent, \" - \", cdb.cui2type_ids.get(ent._.cui))"
      ],
      "execution_count": null,
      "outputs": [
        {
          "output_type": "stream",
          "text": [
            "diagnosed  -  {'T062'}\n",
            "kidney failure  -  {'T047'}\n"
          ],
          "name": "stdout"
        }
      ]
    },
    {
      "cell_type": "code",
      "metadata": {
        "colab": {
          "base_uri": "https://localhost:8080/",
          "height": 52
        },
        "id": "7hZPUuf1Vffo",
        "outputId": "dfa3597e-491f-4c5c-963e-59a67f097c3f"
      },
      "source": [
        "# We can also show the entities in a nicer way using displacy form spaCy\n",
        "from spacy import displacy\n",
        "displacy.render(doc, style='ent', jupyter=True)"
      ],
      "execution_count": null,
      "outputs": [
        {
          "output_type": "display_data",
          "data": {
            "text/html": [
              "<span class=\"tex2jax_ignore\"><div class=\"entities\" style=\"line-height: 2.5; direction: ltr\">He was \n",
              "<mark class=\"entity\" style=\"background: #ddd; padding: 0.45em 0.6em; margin: 0 0.25em; line-height: 1; border-radius: 0.35em;\">\n",
              "    diagnosed\n",
              "    <span style=\"font-size: 0.8em; font-weight: bold; line-height: 1; border-radius: 0.35em; text-transform: uppercase; vertical-align: middle; margin-left: 0.5rem\">concept</span>\n",
              "</mark>\n",
              " with \n",
              "<mark class=\"entity\" style=\"background: #ddd; padding: 0.45em 0.6em; margin: 0 0.25em; line-height: 1; border-radius: 0.35em;\">\n",
              "    kidney failure\n",
              "    <span style=\"font-size: 0.8em; font-weight: bold; line-height: 1; border-radius: 0.35em; text-transform: uppercase; vertical-align: middle; margin-left: 0.5rem\">concept</span>\n",
              "</mark>\n",
              "</div></span>"
            ],
            "text/plain": [
              "<IPython.core.display.HTML object>"
            ]
          },
          "metadata": {
            "tags": []
          }
        }
      ]
    },
    {
      "cell_type": "markdown",
      "metadata": {
        "id": "et68xVzxVffr"
      },
      "source": [
        "## Load the data"
      ]
    },
    {
      "cell_type": "code",
      "metadata": {
        "id": "j7krcYDyVffr"
      },
      "source": [
        "# Load the dataset - the one we saved in the last step of Part 2.\n",
        "#If using MIMIC-III this is a very big dataset, be careful with memory requirements.\n",
        "data = pd.read_csv(DATA_DIR + \"pt_notes.csv\")"
      ],
      "execution_count": null,
      "outputs": []
    },
    {
      "cell_type": "code",
      "metadata": {
        "colab": {
          "base_uri": "https://localhost:8080/",
          "height": 306
        },
        "id": "nOPdyOoQVffv",
        "outputId": "7e67ee0d-7b7c-441f-ebe8-27ab7aee60b4"
      },
      "source": [
        "# In this step we are only interested in the *text* column\n",
        "data.head()"
      ],
      "execution_count": null,
      "outputs": [
        {
          "output_type": "execute_result",
          "data": {
            "text/html": [
              "<div>\n",
              "<style scoped>\n",
              "    .dataframe tbody tr th:only-of-type {\n",
              "        vertical-align: middle;\n",
              "    }\n",
              "\n",
              "    .dataframe tbody tr th {\n",
              "        vertical-align: top;\n",
              "    }\n",
              "\n",
              "    .dataframe thead th {\n",
              "        text-align: right;\n",
              "    }\n",
              "</style>\n",
              "<table border=\"1\" class=\"dataframe\">\n",
              "  <thead>\n",
              "    <tr style=\"text-align: right;\">\n",
              "      <th></th>\n",
              "      <th>Unnamed: 0_x</th>\n",
              "      <th>subject_id</th>\n",
              "      <th>chartdate</th>\n",
              "      <th>category</th>\n",
              "      <th>text</th>\n",
              "      <th>create_year</th>\n",
              "      <th>Unnamed: 0_y</th>\n",
              "      <th>gender</th>\n",
              "      <th>dob</th>\n",
              "      <th>dob_year</th>\n",
              "      <th>age_year</th>\n",
              "    </tr>\n",
              "  </thead>\n",
              "  <tbody>\n",
              "    <tr>\n",
              "      <th>0</th>\n",
              "      <td>6</td>\n",
              "      <td>1</td>\n",
              "      <td>2079-01-01</td>\n",
              "      <td>General Medicine</td>\n",
              "      <td>HISTORY OF PRESENT ILLNESS:, The patient is a ...</td>\n",
              "      <td>2079</td>\n",
              "      <td>1</td>\n",
              "      <td>F</td>\n",
              "      <td>2018-01-01</td>\n",
              "      <td>2018</td>\n",
              "      <td>61</td>\n",
              "    </tr>\n",
              "    <tr>\n",
              "      <th>1</th>\n",
              "      <td>7</td>\n",
              "      <td>1</td>\n",
              "      <td>2079-01-01</td>\n",
              "      <td>Rheumatology</td>\n",
              "      <td>HISTORY OF PRESENT ILLNESS: , A 71-year-old fe...</td>\n",
              "      <td>2079</td>\n",
              "      <td>1</td>\n",
              "      <td>F</td>\n",
              "      <td>2018-01-01</td>\n",
              "      <td>2018</td>\n",
              "      <td>61</td>\n",
              "    </tr>\n",
              "    <tr>\n",
              "      <th>2</th>\n",
              "      <td>8</td>\n",
              "      <td>1</td>\n",
              "      <td>2079-01-01</td>\n",
              "      <td>Consult - History and Phy.</td>\n",
              "      <td>HISTORY OF PRESENT ILLNESS:, The patient is a ...</td>\n",
              "      <td>2079</td>\n",
              "      <td>1</td>\n",
              "      <td>F</td>\n",
              "      <td>2018-01-01</td>\n",
              "      <td>2018</td>\n",
              "      <td>61</td>\n",
              "    </tr>\n",
              "    <tr>\n",
              "      <th>3</th>\n",
              "      <td>9</td>\n",
              "      <td>2</td>\n",
              "      <td>2037-01-01</td>\n",
              "      <td>Consult - History and Phy.</td>\n",
              "      <td>CHIEF COMPLAINT:,1.  Infection.,2.  Pelvic pai...</td>\n",
              "      <td>2037</td>\n",
              "      <td>2</td>\n",
              "      <td>F</td>\n",
              "      <td>2018-01-01</td>\n",
              "      <td>2018</td>\n",
              "      <td>19</td>\n",
              "    </tr>\n",
              "    <tr>\n",
              "      <th>4</th>\n",
              "      <td>10</td>\n",
              "      <td>2</td>\n",
              "      <td>2037-01-01</td>\n",
              "      <td>Dermatology</td>\n",
              "      <td>SUBJECTIVE:,  This is a 29-year-old Vietnamese...</td>\n",
              "      <td>2037</td>\n",
              "      <td>2</td>\n",
              "      <td>F</td>\n",
              "      <td>2018-01-01</td>\n",
              "      <td>2018</td>\n",
              "      <td>19</td>\n",
              "    </tr>\n",
              "  </tbody>\n",
              "</table>\n",
              "</div>"
            ],
            "text/plain": [
              "   Unnamed: 0_x  subject_id   chartdate  ...         dob dob_year  age_year\n",
              "0             6           1  2079-01-01  ...  2018-01-01     2018        61\n",
              "1             7           1  2079-01-01  ...  2018-01-01     2018        61\n",
              "2             8           1  2079-01-01  ...  2018-01-01     2018        61\n",
              "3             9           2  2037-01-01  ...  2018-01-01     2018        19\n",
              "4            10           2  2037-01-01  ...  2018-01-01     2018        19\n",
              "\n",
              "[5 rows x 11 columns]"
            ]
          },
          "metadata": {
            "tags": []
          },
          "execution_count": 12
        }
      ]
    },
    {
      "cell_type": "markdown",
      "metadata": {
        "id": "3CERW88jVffz"
      },
      "source": [
        "## Run unsupervised training"
      ]
    },
    {
      "cell_type": "code",
      "metadata": {
        "colab": {
          "base_uri": "https://localhost:8080/"
        },
        "id": "jHYbsOriVff0",
        "scrolled": true,
        "outputId": "f986dddb-13a0-4aee-8c77-bc46ecdda567"
      },
      "source": [
        "# The first step that we want to do when using MedCAT is unsupervised training.\n",
        "# You can find a full explanation of this process in the paper:\n",
        "# https://doi.org/10.1016/j.artmed.2021.102083\n",
        "\n",
        "# Print statistics on the CDB before training (note that if you are using the \n",
        "#medmen cdb it will already have some training)\n",
        "cat.cdb.print_stats()\n",
        "\n",
        "# Run the annotation procedure over all the documents we have,\n",
        "#given that we have a large number of documents this can take quite some time.\n",
        "#~2 days, but you don't need to run it over everything 500K docs is enough\n",
        "print()\n",
        "print(f\"There are {len(data['text'])} documents to train...\")\n",
        "cat.train(data.text.values, progress_print=100)\n",
        "\n",
        "# Print statistics on the CDB after training\n",
        "cat.cdb.print_stats()"
      ],
      "execution_count": null,
      "outputs": [
        {
          "output_type": "stream",
          "text": [
            "Number of concepts: 34,724\n",
            "Number of names:    92,740\n",
            "Number of concepts that received training: 34,724\n",
            "Number of seen training examples in total: 4,079,076\n",
            "Average training examples per concept:     117.5\n"
          ],
          "name": "stderr"
        },
        {
          "output_type": "stream",
          "text": [
            "There are 1088 documents to train...\n"
          ],
          "name": "stdout"
        },
        {
          "output_type": "stream",
          "text": [
            "DONE: 0\n",
            "DONE: 100\n",
            "DONE: 200\n",
            "DONE: 300\n",
            "DONE: 400\n",
            "DONE: 500\n",
            "DONE: 600\n",
            "DONE: 700\n",
            "DONE: 800\n",
            "DONE: 900\n",
            "DONE: 1000\n",
            "Number of concepts: 34,724\n",
            "Number of names:    92,740\n",
            "Number of concepts that received training: 34,724\n",
            "Number of seen training examples in total: 4,097,966\n",
            "Average training examples per concept:     118.0\n"
          ],
          "name": "stderr"
        }
      ]
    },
    {
      "cell_type": "markdown",
      "metadata": {
        "id": "TsMpg0JSTdYm"
      },
      "source": [
        "## Save the new CDB"
      ]
    },
    {
      "cell_type": "code",
      "metadata": {
        "id": "hPQdflWxTcSB"
      },
      "source": [
        "cdb.save(\"my_new_medcat_cdb.dat\")"
      ],
      "execution_count": null,
      "outputs": []
    },
    {
      "cell_type": "code",
      "metadata": {
        "id": "9ASkdddmKZMY"
      },
      "source": [
        "cdb = CDB.load(\"my_new_medcat_cdb.dat\")"
      ],
      "execution_count": null,
      "outputs": []
    },
    {
      "cell_type": "markdown",
      "metadata": {
        "id": "9Wf7ugKkVff3"
      },
      "source": [
        "## Annotate Documents"
      ]
    },
    {
      "cell_type": "markdown",
      "metadata": {
        "id": "rpzhuFFyVff3"
      },
      "source": [
        "We are not interested in all medical concepts that exist in UMLS, that is why we will filter by Semantic Type (TUI) to only:\n",
        "1. T047 - Disease or Syndrome\n",
        "2. T048 - Mental or Behavioral Dysfunction\n",
        "\n",
        "It is possible to filter after the detection process, but always better to define the filter as part of MedCAT\n",
        "\n",
        "A full list of semantic types in UMLS is available [here](https://metamap.nlm.nih.gov/Docs/SemanticTypes_2018AB.txt)."
      ]
    },
    {
      "cell_type": "code",
      "metadata": {
        "colab": {
          "base_uri": "https://localhost:8080/"
        },
        "id": "8WAS38nNVff4",
        "outputId": "573692bc-5815-4052-85e7-7ff816cb3f4b"
      },
      "source": [
        "# IMPORTANT: Set TUI filters\n",
        "# |T047|Disease or Syndrome\n",
        "# |T048|Mental or Behavioral Dysfunction\n",
        "tui_filter = ['T047', 'T048']\n",
        "cui_filters = set()\n",
        "for tui in tui_filter:\n",
        "  cui_filters.update(cdb.addl_info['type_id2cuis'][tui])\n",
        "cdb.config.linking['filters']['cuis'] = cui_filters\n",
        "print(f\"The size of the cdb is now: {len(cui_filters)}\")\n"
      ],
      "execution_count": null,
      "outputs": [
        {
          "output_type": "stream",
          "text": [
            "The size of the cdb is now: 1763\n"
          ],
          "name": "stdout"
        }
      ]
    },
    {
      "cell_type": "code",
      "metadata": {
        "id": "x5abRn4kdbUM"
      },
      "source": [
        "# Make sure to reload the CAT with the new cdb config\n",
        "cat = CAT(cdb=cdb, config=cdb.config, vocab=vocab)"
      ],
      "execution_count": null,
      "outputs": []
    },
    {
      "cell_type": "markdown",
      "metadata": {
        "id": "HSMCmCkQVff6"
      },
      "source": [
        "For each row in our dataframe `data` we want to get all diseases that appear in the `text` column. In UMLS a disease is defined by a CUI, so we want to have the following output after the annotation is done:\n",
        "```\n",
        "cui_location = {<CUI>: [<row_id>, <row_id>, ...], ...}\n",
        "```"
      ]
    },
    {
      "cell_type": "code",
      "metadata": {
        "id": "RHrN0ikXVff6"
      },
      "source": [
        "# This will be a map from CUI to a list of documents where it appears: {\"cui\": [<doc_id>, <doc_id>, ...], ..}\n",
        "cui_location = {}\n",
        "# Let's also save the TUI location (semantic type)\n",
        "tui_location = {}"
      ],
      "execution_count": null,
      "outputs": []
    },
    {
      "cell_type": "markdown",
      "metadata": {
        "id": "rfHRh8C9Vff9"
      },
      "source": [
        "### Use Multiprocessing\n",
        "\n",
        "We can annotate documents one by one, using the `annotated_document = cat(text)` option, but it will work much faster if we do it using the `multi_processing` method from medcat.\n",
        "\n",
        "When using multi_processing medcat requires the following format for input documents:\n",
        "```\n",
        "in_data = [(doc_id, doc_text), (doc_id, doc_text), ...]\n",
        "```\n",
        "The output is (return from medcat):\n",
        "```\n",
        "out_data = [(doc_id, {'entities': [...], 'text': <...>), (doc_id, {'entities': [...], 'text': <...>}), ...]\n",
        "```\n",
        "\n",
        "NOTE: If using the full UMLS CDB and a lot of processors (e.g. 32) it is very memory demanding (~ 32GB). The annotation process on 32 processors and 1M large text documents takes ~1h. "
      ]
    },
    {
      "cell_type": "code",
      "metadata": {
        "colab": {
          "base_uri": "https://localhost:8080/"
        },
        "id": "6RET9-y9xZGK",
        "outputId": "9f676ef8-16b1-4f6c-94b1-0c22e9875b83"
      },
      "source": [
        "# Let's test the multi processing function first\n",
        "in_data = [(1, \"He was a diabetic patient\")]\n",
        "results = cat.multiprocessing(in_data, nproc=2)\n",
        "print(results)"
      ],
      "execution_count": null,
      "outputs": [
        {
          "output_type": "stream",
          "text": [
            "[(1, {'entities': {}, 'tokens': [], 'text': 'He was a diabetic patient'})]\n"
          ],
          "name": "stdout"
        }
      ]
    },
    {
      "cell_type": "markdown",
      "metadata": {
        "id": "YIw5f-SpyoPC"
      },
      "source": [
        "The returned list of `entities` contains the following:\n",
        "\n",
        "`cui` - ID of the detected entity in the CDB (in our case UMLS)\n",
        "\n",
        "`tui` - Semantic type ID\n",
        "\n",
        "`type` - Semantic type\n",
        "\n",
        "`source_value` - What exact source value was detected\n",
        "\n",
        "`acc` - Confidence score for this detection\n",
        "\n",
        "`start` - The start character for the entity in the original string\n",
        "\n",
        "`end` - End character for the entity in the original string\n",
        "\n",
        "`id` - Internal ID, each entity inside a document has an unique ID\n",
        "\n",
        "`pretty_name` - The pretty name for this entity linked with the CUI\n",
        "\n",
        "`icd10` - If we are using a medical CDB, we'll also get ICD10 codes\n",
        "\n",
        "`umls` - If the CDB was something other than UMLS, we would get the potential link to UMLS.\n",
        "\n",
        "`snomed` - If we are using a medical CDB this would link to the equivalent SNOMED concept"
      ]
    },
    {
      "cell_type": "code",
      "metadata": {
        "colab": {
          "base_uri": "https://localhost:8080/"
        },
        "id": "VJ8yOLvfr1n_",
        "outputId": "df1987cc-89af-4dd1-ba17-e688e992b8ae"
      },
      "source": [
        "# If we have a use-case (like ours) where we do not care about anything else but the \n",
        "#detected CUI (concept unique identifier), we can do the following:\n",
        "in_data = [(1, \"He was a diabetic patient\")]\n",
        "results = cat.multiprocessing(in_data, nproc=2, only_cui=True)\n",
        "print(results)"
      ],
      "execution_count": null,
      "outputs": [
        {
          "output_type": "stream",
          "text": [
            "[(1, {'entities': {}, 'tokens': [], 'text': 'He was a diabetic patient'})]\n"
          ],
          "name": "stdout"
        }
      ]
    },
    {
      "cell_type": "code",
      "metadata": {
        "colab": {
          "base_uri": "https://localhost:8080/"
        },
        "id": "SrIR0vGsJZui",
        "outputId": "3395f30c-603c-42b9-cbd6-80fcd3eba556"
      },
      "source": [
        "data.shape"
      ],
      "execution_count": null,
      "outputs": [
        {
          "output_type": "execute_result",
          "data": {
            "text/plain": [
              "(1088, 11)"
            ]
          },
          "metadata": {
            "tags": []
          },
          "execution_count": 21
        }
      ]
    },
    {
      "cell_type": "code",
      "metadata": {
        "colab": {
          "base_uri": "https://localhost:8080/",
          "height": 232
        },
        "id": "QwC8bYbXVff9",
        "scrolled": true,
        "outputId": "b10c1f04-2709-4cdc-c609-b0415db7a65a"
      },
      "source": [
        "batch_size = 100\n",
        "batch = []\n",
        "cnt = 0\n",
        "for id, row in data.iterrows():\n",
        "    text = row['text']\n",
        "    # Skip text if under 10 characters\n",
        "    if len(text) > 10:\n",
        "        batch.append((id, text))\n",
        "    \n",
        "    if len(batch) > batch_size or id == len(data) - 1:\n",
        "        # Update the number of processors depending on your machine.\n",
        "        #We are using the only_cui option, means the returned entities\n",
        "        #will only have a CUI (no other information, try both if interested).\n",
        "        results = cat.multiprocessing(batch, nproc=8, only_cui=True)\n",
        "        \n",
        "        for pair in results:\n",
        "            row_id = pair[0]\n",
        "            cui_list = set(pair[1]['entities'].values()) # Convert to set to get unique CUIs\n",
        "            \n",
        "            for cui in cui_list:\n",
        "                if cui in cui_location:\n",
        "                    cui_location[cui].append(row_id)\n",
        "                else:\n",
        "                    cui_location[cui] = [row_id]\n",
        "\n",
        "                # This is not necessary as it can be done later, we have\n",
        "                #the cdb.cui2type_id map.\n",
        "                tuis = cdb.cui2type_ids[cui] \n",
        "                for tui in tuis: # this step is necessary as one cui may map to several tuis\n",
        "                  if tui in tui_location and row_id not in tui_location[tui]:\n",
        "                      tui_location[tui].append(row_id)\n",
        "                  elif tui not in tui_location:\n",
        "                      tui_location[tui] = [row_id]\n",
        "        \n",
        "        cnt += 1\n",
        "        print(\"Done: {} - rows\".format((cnt -1)*batch_size + len(batch)))\n",
        "        \n",
        "        # Reset the batch\n",
        "        batch = []"
      ],
      "execution_count": null,
      "outputs": [
        {
          "output_type": "error",
          "ename": "NameError",
          "evalue": "ignored",
          "traceback": [
            "\u001b[0;31m---------------------------------------------------------------------------\u001b[0m",
            "\u001b[0;31mNameError\u001b[0m                                 Traceback (most recent call last)",
            "\u001b[0;32m<ipython-input-1-f4ef53e3f704>\u001b[0m in \u001b[0;36m<module>\u001b[0;34m()\u001b[0m\n\u001b[1;32m      2\u001b[0m \u001b[0mbatch\u001b[0m \u001b[0;34m=\u001b[0m \u001b[0;34m[\u001b[0m\u001b[0;34m]\u001b[0m\u001b[0;34m\u001b[0m\u001b[0;34m\u001b[0m\u001b[0m\n\u001b[1;32m      3\u001b[0m \u001b[0mcnt\u001b[0m \u001b[0;34m=\u001b[0m \u001b[0;36m0\u001b[0m\u001b[0;34m\u001b[0m\u001b[0;34m\u001b[0m\u001b[0m\n\u001b[0;32m----> 4\u001b[0;31m \u001b[0;32mfor\u001b[0m \u001b[0mid\u001b[0m\u001b[0;34m,\u001b[0m \u001b[0mrow\u001b[0m \u001b[0;32min\u001b[0m \u001b[0mdata\u001b[0m\u001b[0;34m.\u001b[0m\u001b[0miterrows\u001b[0m\u001b[0;34m(\u001b[0m\u001b[0;34m)\u001b[0m\u001b[0;34m:\u001b[0m\u001b[0;34m\u001b[0m\u001b[0;34m\u001b[0m\u001b[0m\n\u001b[0m\u001b[1;32m      5\u001b[0m     \u001b[0mtext\u001b[0m \u001b[0;34m=\u001b[0m \u001b[0mrow\u001b[0m\u001b[0;34m.\u001b[0m\u001b[0mtext\u001b[0m\u001b[0;34m.\u001b[0m\u001b[0mvalues\u001b[0m\u001b[0;34m\u001b[0m\u001b[0;34m\u001b[0m\u001b[0m\n\u001b[1;32m      6\u001b[0m     \u001b[0;31m# Skip text if under 10 characters\u001b[0m\u001b[0;34m\u001b[0m\u001b[0;34m\u001b[0m\u001b[0;34m\u001b[0m\u001b[0m\n",
            "\u001b[0;31mNameError\u001b[0m: name 'data' is not defined"
          ]
        }
      ]
    },
    {
      "cell_type": "markdown",
      "metadata": {
        "id": "p3ykzPULg8Y4"
      },
      "source": [
        "In this case we did not care about the full results from medcat, we only needed to know for each CUI (disease ID), where it appeared."
      ]
    },
    {
      "cell_type": "code",
      "metadata": {
        "colab": {
          "base_uri": "https://localhost:8080/",
          "height": 137
        },
        "id": "7PxUejjbgWAX",
        "outputId": "53891b88-cc7b-4326-d7c5-b21d687bc6f7"
      },
      "source": [
        "# Check one of the returned results, just in case\n",
        "results[0][1]['text']"
      ],
      "execution_count": null,
      "outputs": [
        {
          "output_type": "execute_result",
          "data": {
            "application/vnd.google.colaboratory.intrinsic+json": {
              "type": "string"
            },
            "text/plain": [
              "'HISTORY OF PRESENT ILLNESS:,  Patient is a 76-year-old white male who presents with his wife stating that he was stung by a bee on his right hand, left hand, and right knee at approximately noon today.  He did not note any immediate reaction.  Since that time, he has noted some increasing redness and swelling to his left hand, but he denies any generalized symptoms such as itching, hives, or shortness of breath.  He denies any sensation of tongue swelling or difficulty swallowing.,The patient states he was stung approximately one month ago without any serious reaction.  He did windup taking Benadryl at that time.  He has not taken anything today for his symptoms, but he is on hydrochlorothiazide and metoprolol for hypertension as well as a baby aspirin each day.,ALLERGIES: , HE DOES HAVE MEDICATION INTOLERANCES TO SULFA DRUGS (HEADACHE), MORPHINE (NAUSEA AND VOMITING), AND TORADOL (ULCER).,SOCIAL HISTORY: , Patient is married and is a nonsmoker and lives with his wife, who is here with him.,Nursing notes were reviewed with which I agree.,PHYSICAL EXAMINATION,VITAL SIGNS:  Temp and vital signs are all within normal limits.,GENERAL:  In general, the patient is an elderly white male who is sitting on the stretcher in no acute distress.,HEENT:  Head is normocephalic and atraumatic.  The face shows no edema.  The tongue is not swollen and the airway is widely patent.,NECK:  No stridor.,HEART:  Regular rate and rhythm without murmurs, rubs, or gallops.,LUNGS:  Clear without rales, rhonchi, or wheezes.,EXTREMITIES:  Upper extremities, there is some edema and erythema to the dorsum of the left hand in the region of the distal third to fifth metacarpals.  There was some slight edema of the fourth digit, on which he still is wearing his wedding band.  The right hand shows no reaction.  The right knee is not swollen either.,The left fourth digit was wrapped in a rubber tourniquet to express the edema and using some Surgilube, I was able to remove his wedding band without any difficulty.  Patient was given Claritin 10 mg orally for what appears to be a simple local reaction to an insect sting.  I did explain to him that his swelling and redness may progress over the next few days.,ASSESSMENT: , Local reaction secondary to insect sting.,PLAN: , The patient was reassured that this is not a serious reaction to an insect sting and he should not progress to such a reaction.  I did urge him to use Claritin 10 mg once daily until the redness and swelling has gone.  I did explain that the swelling may worsen over the next two to three days, it may produce a large local reaction, but that anti-histamines were still the mainstay of therapy for such a reaction.  If he is not improved in the next four days, follow up with his PCP for a re-exam.'"
            ]
          },
          "metadata": {
            "tags": []
          },
          "execution_count": 55
        }
      ]
    },
    {
      "cell_type": "code",
      "metadata": {
        "colab": {
          "base_uri": "https://localhost:8080/"
        },
        "id": "IKBEPp2aR265",
        "outputId": "0f39649f-2bf0-4fed-da51-b7451268794d"
      },
      "source": [
        "# See all annotations based on the filter set above. \n",
        "# Notice that entities not present in the filter are filtered out.\n",
        "results[0][1]['entities']"
      ],
      "execution_count": null,
      "outputs": [
        {
          "output_type": "execute_result",
          "data": {
            "text/plain": [
              "{30: 'C0041834', 121: 'C0041834'}"
            ]
          },
          "metadata": {
            "tags": []
          },
          "execution_count": 56
        }
      ]
    },
    {
      "cell_type": "code",
      "metadata": {
        "colab": {
          "base_uri": "https://localhost:8080/",
          "height": 35
        },
        "id": "0IN7FeHbhF5Y",
        "outputId": "53bf1e73-e5e7-4b03-eb6e-0b08bfe08ad8"
      },
      "source": [
        "# If we want to convert a CUI back to its name\n",
        "cdb.cui2preferred_name['C0041834']"
      ],
      "execution_count": null,
      "outputs": [
        {
          "output_type": "execute_result",
          "data": {
            "application/vnd.google.colaboratory.intrinsic+json": {
              "type": "string"
            },
            "text/plain": [
              "'Erythema'"
            ]
          },
          "metadata": {
            "tags": []
          },
          "execution_count": 57
        }
      ]
    },
    {
      "cell_type": "code",
      "metadata": {
        "colab": {
          "base_uri": "https://localhost:8080/"
        },
        "id": "FvkndApC_0eU",
        "outputId": "4eb3d19a-21da-4eec-d50a-95900366ae64"
      },
      "source": [
        "# To see all names in the concept db\n",
        "cdb.cui2names['C0041834']"
      ],
      "execution_count": null,
      "outputs": [
        {
          "output_type": "execute_result",
          "data": {
            "text/plain": [
              "{'erythema', 'erythematous', 'redness'}"
            ]
          },
          "metadata": {
            "tags": []
          },
          "execution_count": 59
        }
      ]
    },
    {
      "cell_type": "code",
      "metadata": {
        "id": "_7lSXtHEVfgA"
      },
      "source": [
        "# Save the data so that we don't have to do the annotation again\n",
        "pickle.dump(cui_location, open(DATA_DIR + \"cui_location.dat\", 'wb'))\n",
        "pickle.dump(tui_location, open(DATA_DIR + \"tui_location.dat\", 'wb'))"
      ],
      "execution_count": null,
      "outputs": []
    },
    {
      "cell_type": "code",
      "metadata": {
        "id": "Am1xTX25VfgC"
      },
      "source": [
        "# Load\n",
        "cui_location = pickle.load(open(DATA_DIR + \"cui_location.dat\", 'rb'))\n",
        "tui_location = pickle.load(open(DATA_DIR + \"tui_location.dat\", 'rb'))"
      ],
      "execution_count": null,
      "outputs": []
    },
    {
      "cell_type": "markdown",
      "metadata": {
        "id": "1fkbtINHVfgF"
      },
      "source": [
        "## Plot a couple of things\n",
        "This is not necessary at this stage, but to be sure things are ok we will still do it"
      ]
    },
    {
      "cell_type": "code",
      "metadata": {
        "id": "8lrAhiODVfgF"
      },
      "source": [
        "# We are going to count the number of subjects (patients) for each CUI\n",
        "cui_subjects = {}\n",
        "cui_subjects_unique = {}\n",
        "for cui in cui_location:\n",
        "    for location in cui_location[cui]:\n",
        "        subject_id = data.iat[location, list(data.columns).index('subject_id')]\n",
        "        if cui in cui_subjects:\n",
        "            cui_subjects[cui].append(subject_id)\n",
        "            cui_subjects_unique[cui].add(subject_id)\n",
        "        else:\n",
        "            cui_subjects[cui] = [subject_id]\n",
        "            cui_subjects_unique[cui] = {subject_id}"
      ],
      "execution_count": null,
      "outputs": []
    },
    {
      "cell_type": "code",
      "metadata": {
        "id": "8u6jOrsJVfgH"
      },
      "source": [
        "cui_nsubjects = [('cui', 'nsubjects')]\n",
        "for cui in cui_subjects_unique.keys():\n",
        "    cui_nsubjects.append((cui, len(cui_subjects_unique[cui])))\n",
        "df_cui_nsubjects = pd.DataFrame(cui_nsubjects[1:], columns=cui_nsubjects[0])"
      ],
      "execution_count": null,
      "outputs": []
    },
    {
      "cell_type": "markdown",
      "metadata": {
        "id": "0P1YlxKwVfgJ"
      },
      "source": [
        "Add a couple of columns that can be useful"
      ]
    },
    {
      "cell_type": "code",
      "metadata": {
        "id": "bgMVLkQLVfgK"
      },
      "source": [
        "df_cui_nsubjects = df_cui_nsubjects.sort_values('nsubjects', ascending=False)\n",
        "# Add TUI for each CUI\n",
        "df_cui_nsubjects['tui'] = ['unk'] * len(df_cui_nsubjects)\n",
        "cols = list(df_cui_nsubjects.columns)\n",
        "for i in range(len(df_cui_nsubjects)):\n",
        "    cui = df_cui_nsubjects.iat[i, cols.index('cui')]\n",
        "    tui = cdb.cui2type_ids.get(cui, 'unk')\n",
        "    df_cui_nsubjects.iat[i, cols.index('tui')] = tui\n",
        "    \n",
        "# Add name for each CUI\n",
        "df_cui_nsubjects['name'] = ['unk'] * len(df_cui_nsubjects)\n",
        "cols = list(df_cui_nsubjects.columns)\n",
        "for i in range(len(df_cui_nsubjects)):\n",
        "    cui = df_cui_nsubjects.iat[i, cols.index('cui')]\n",
        "    name = cdb.cui2preferred_name.get(cui, 'unk')\n",
        "    df_cui_nsubjects.iat[i, cols.index('name')] = name\n",
        "\n",
        "\n",
        "# Add the percentage column\n",
        "total_subjects = len(data['subject_id'].unique())\n",
        "df_cui_nsubjects['perc_subjects'] = (df_cui_nsubjects['nsubjects'] / total_subjects) * 100\n",
        "\n",
        "df_cui_nsubjects.reset_index(drop=True, inplace=True)"
      ],
      "execution_count": null,
      "outputs": []
    },
    {
      "cell_type": "code",
      "metadata": {
        "colab": {
          "base_uri": "https://localhost:8080/",
          "height": 204
        },
        "id": "xsaOGdQFgkFG",
        "outputId": "5b2906ee-a720-4849-d2d9-8ec67f8857bc"
      },
      "source": [
        "# Inspect newly created df\n",
        "df_cui_nsubjects.head()"
      ],
      "execution_count": null,
      "outputs": [
        {
          "output_type": "execute_result",
          "data": {
            "text/html": [
              "<div>\n",
              "<style scoped>\n",
              "    .dataframe tbody tr th:only-of-type {\n",
              "        vertical-align: middle;\n",
              "    }\n",
              "\n",
              "    .dataframe tbody tr th {\n",
              "        vertical-align: top;\n",
              "    }\n",
              "\n",
              "    .dataframe thead th {\n",
              "        text-align: right;\n",
              "    }\n",
              "</style>\n",
              "<table border=\"1\" class=\"dataframe\">\n",
              "  <thead>\n",
              "    <tr style=\"text-align: right;\">\n",
              "      <th></th>\n",
              "      <th>cui</th>\n",
              "      <th>nsubjects</th>\n",
              "      <th>tui</th>\n",
              "      <th>name</th>\n",
              "      <th>perc_subjects</th>\n",
              "    </tr>\n",
              "  </thead>\n",
              "  <tbody>\n",
              "    <tr>\n",
              "      <th>0</th>\n",
              "      <td>C0020538</td>\n",
              "      <td>125</td>\n",
              "      <td>{T047}</td>\n",
              "      <td>Hypertensive disease</td>\n",
              "      <td>68.681319</td>\n",
              "    </tr>\n",
              "    <tr>\n",
              "      <th>1</th>\n",
              "      <td>C0028754</td>\n",
              "      <td>121</td>\n",
              "      <td>{T047}</td>\n",
              "      <td>Obesity</td>\n",
              "      <td>66.483516</td>\n",
              "    </tr>\n",
              "    <tr>\n",
              "      <th>2</th>\n",
              "      <td>C0004936</td>\n",
              "      <td>64</td>\n",
              "      <td>{T048}</td>\n",
              "      <td>Mental disorders</td>\n",
              "      <td>35.164835</td>\n",
              "    </tr>\n",
              "    <tr>\n",
              "      <th>3</th>\n",
              "      <td>C0085762</td>\n",
              "      <td>59</td>\n",
              "      <td>{T048}</td>\n",
              "      <td>Alcohol abuse</td>\n",
              "      <td>32.417582</td>\n",
              "    </tr>\n",
              "    <tr>\n",
              "      <th>4</th>\n",
              "      <td>C0018799</td>\n",
              "      <td>52</td>\n",
              "      <td>{T047}</td>\n",
              "      <td>Heart Diseases</td>\n",
              "      <td>28.571429</td>\n",
              "    </tr>\n",
              "  </tbody>\n",
              "</table>\n",
              "</div>"
            ],
            "text/plain": [
              "        cui  nsubjects     tui                  name  perc_subjects\n",
              "0  C0020538        125  {T047}  Hypertensive disease      68.681319\n",
              "1  C0028754        121  {T047}               Obesity      66.483516\n",
              "2  C0004936         64  {T048}      Mental disorders      35.164835\n",
              "3  C0085762         59  {T048}         Alcohol abuse      32.417582\n",
              "4  C0018799         52  {T047}        Heart Diseases      28.571429"
            ]
          },
          "metadata": {
            "tags": []
          },
          "execution_count": 65
        }
      ]
    },
    {
      "cell_type": "code",
      "metadata": {
        "colab": {
          "base_uri": "https://localhost:8080/",
          "height": 1000
        },
        "id": "TupbSS6OVfgM",
        "scrolled": false,
        "outputId": "f6baa516-fa03-4bd2-ac4a-903f6f267e7c"
      },
      "source": [
        "# Plot the top 30 diseases\n",
        "sns.reset_defaults()\n",
        "sns.set(\n",
        "    rc={'figure.figsize':(5,12)}, \n",
        "    style=\"whitegrid\",\n",
        "    palette='pastel'\n",
        ")\n",
        "f, ax = plt.subplots()\n",
        "_data = df_cui_nsubjects.iloc[0:30]\n",
        "sns.barplot(x=\"perc_subjects\", y=\"name\", data=_data, label=\"Disorder Name\", color=\"b\")\n",
        "_ = ax.set(xlim=(0, 70), ylabel=\"Disease Name\", xlabel=\"Percentage of patients with disease\")\n",
        "plt.show()"
      ],
      "execution_count": null,
      "outputs": [
        {
          "output_type": "display_data",
          "data": {
            "image/png": "[encoded data removed]",
            "text/plain": [
              "<Figure size 500x1200 with 1 Axes>"
            ]
          },
          "metadata": {
            "tags": []
          }
        }
      ]
    },
    {
      "cell_type": "markdown",
      "metadata": {
        "id": "-ChkW6MiVfgO"
      },
      "source": [
        "## Preparing data for supervised training (MedCATtrainer)\n",
        "\n",
        "As we want to do some fine-tuning on the models and also some meta-annotations (e.g. Status and Temporality), we'll take the top 100 CUIs from each TUI and for each take 2 examples. We'll do this because randomly choosing documents will give us only (most likely) the concpets on the very top by frequency (especially when there is a large drop between the top concepts).\n",
        "\n",
        "The required output format for supervised training via MedCATtrainer is CSV with `columns=(name, text)`"
      ]
    },
    {
      "cell_type": "code",
      "metadata": {
        "colab": {
          "base_uri": "https://localhost:8080/",
          "height": 204
        },
        "id": "9rp0fn5MfUQS",
        "outputId": "5b8e462c-ecde-4438-9eaa-1bcdc2388582"
      },
      "source": [
        "df_cui_nsubjects.head()"
      ],
      "execution_count": null,
      "outputs": [
        {
          "output_type": "execute_result",
          "data": {
            "text/html": [
              "<div>\n",
              "<style scoped>\n",
              "    .dataframe tbody tr th:only-of-type {\n",
              "        vertical-align: middle;\n",
              "    }\n",
              "\n",
              "    .dataframe tbody tr th {\n",
              "        vertical-align: top;\n",
              "    }\n",
              "\n",
              "    .dataframe thead th {\n",
              "        text-align: right;\n",
              "    }\n",
              "</style>\n",
              "<table border=\"1\" class=\"dataframe\">\n",
              "  <thead>\n",
              "    <tr style=\"text-align: right;\">\n",
              "      <th></th>\n",
              "      <th>cui</th>\n",
              "      <th>nsubjects</th>\n",
              "      <th>tui</th>\n",
              "      <th>name</th>\n",
              "      <th>perc_subjects</th>\n",
              "    </tr>\n",
              "  </thead>\n",
              "  <tbody>\n",
              "    <tr>\n",
              "      <th>0</th>\n",
              "      <td>C0020538</td>\n",
              "      <td>125</td>\n",
              "      <td>{T047}</td>\n",
              "      <td>Hypertensive disease</td>\n",
              "      <td>68.681319</td>\n",
              "    </tr>\n",
              "    <tr>\n",
              "      <th>1</th>\n",
              "      <td>C0028754</td>\n",
              "      <td>121</td>\n",
              "      <td>{T047}</td>\n",
              "      <td>Obesity</td>\n",
              "      <td>66.483516</td>\n",
              "    </tr>\n",
              "    <tr>\n",
              "      <th>2</th>\n",
              "      <td>C0004936</td>\n",
              "      <td>64</td>\n",
              "      <td>{T048}</td>\n",
              "      <td>Mental disorders</td>\n",
              "      <td>35.164835</td>\n",
              "    </tr>\n",
              "    <tr>\n",
              "      <th>3</th>\n",
              "      <td>C0085762</td>\n",
              "      <td>59</td>\n",
              "      <td>{T048}</td>\n",
              "      <td>Alcohol abuse</td>\n",
              "      <td>32.417582</td>\n",
              "    </tr>\n",
              "    <tr>\n",
              "      <th>4</th>\n",
              "      <td>C0018799</td>\n",
              "      <td>52</td>\n",
              "      <td>{T047}</td>\n",
              "      <td>Heart Diseases</td>\n",
              "      <td>28.571429</td>\n",
              "    </tr>\n",
              "  </tbody>\n",
              "</table>\n",
              "</div>"
            ],
            "text/plain": [
              "        cui  nsubjects     tui                  name  perc_subjects\n",
              "0  C0020538        125  {T047}  Hypertensive disease      68.681319\n",
              "1  C0028754        121  {T047}               Obesity      66.483516\n",
              "2  C0004936         64  {T048}      Mental disorders      35.164835\n",
              "3  C0085762         59  {T048}         Alcohol abuse      32.417582\n",
              "4  C0018799         52  {T047}        Heart Diseases      28.571429"
            ]
          },
          "metadata": {
            "tags": []
          },
          "execution_count": 67
        }
      ]
    },
    {
      "cell_type": "code",
      "metadata": {
        "id": "ghSpoAbJVfgO"
      },
      "source": [
        "# For each of the top 30 diseases/mental_disorders take 2 examples of documents/text\n",
        "#where they appear\n",
        "nexamples = 2\n",
        "size = 40\n",
        "loc_047_top = []\n",
        "loc_048_top = []\n",
        "\n",
        "for cui in df_cui_nsubjects[df_cui_nsubjects['tui'].apply(lambda x: 'T047' in x)]['cui'].values[0:size]:\n",
        "    loc_047_top.extend(np.array(cui_location[cui])[np.random.randint(0, len(cui_location[cui]), nexamples)])\n",
        "    \n",
        "for cui in df_cui_nsubjects[df_cui_nsubjects['tui'].apply(lambda x: 'T048' in x)]['cui'].values[0:size]:\n",
        "    loc_048_top.extend(np.array(cui_location[cui])[np.random.randint(0, len(cui_location[cui]), nexamples)])\n",
        "\n",
        "data_047_top = data.iloc[loc_047_top]\n",
        "data_048_top = data.iloc[loc_048_top]"
      ],
      "execution_count": null,
      "outputs": []
    },
    {
      "cell_type": "code",
      "metadata": {
        "id": "7L8UhCSsVfgQ"
      },
      "source": [
        "# Combine everything\n",
        "train_data = pd.concat([data_047_top, data_048_top])"
      ],
      "execution_count": null,
      "outputs": []
    },
    {
      "cell_type": "code",
      "metadata": {
        "colab": {
          "base_uri": "https://localhost:8080/",
          "height": 306
        },
        "id": "kUsJajw8fOMe",
        "outputId": "c4c59588-e28e-42fd-aa4f-7f249de68bf8"
      },
      "source": [
        "train_data.head()"
      ],
      "execution_count": null,
      "outputs": [
        {
          "output_type": "execute_result",
          "data": {
            "text/html": [
              "<div>\n",
              "<style scoped>\n",
              "    .dataframe tbody tr th:only-of-type {\n",
              "        vertical-align: middle;\n",
              "    }\n",
              "\n",
              "    .dataframe tbody tr th {\n",
              "        vertical-align: top;\n",
              "    }\n",
              "\n",
              "    .dataframe thead th {\n",
              "        text-align: right;\n",
              "    }\n",
              "</style>\n",
              "<table border=\"1\" class=\"dataframe\">\n",
              "  <thead>\n",
              "    <tr style=\"text-align: right;\">\n",
              "      <th></th>\n",
              "      <th>Unnamed: 0_x</th>\n",
              "      <th>subject_id</th>\n",
              "      <th>chartdate</th>\n",
              "      <th>category</th>\n",
              "      <th>text</th>\n",
              "      <th>create_year</th>\n",
              "      <th>Unnamed: 0_y</th>\n",
              "      <th>gender</th>\n",
              "      <th>dob</th>\n",
              "      <th>dob_year</th>\n",
              "      <th>age_year</th>\n",
              "    </tr>\n",
              "  </thead>\n",
              "  <tbody>\n",
              "    <tr>\n",
              "      <th>36</th>\n",
              "      <td>69</td>\n",
              "      <td>9</td>\n",
              "      <td>2065-01-01</td>\n",
              "      <td>Office Notes</td>\n",
              "      <td>HISTORY OF PRESENT ILLNESS:,  This 57-year-old...</td>\n",
              "      <td>2065</td>\n",
              "      <td>9</td>\n",
              "      <td>F</td>\n",
              "      <td>2018-01-01</td>\n",
              "      <td>2018</td>\n",
              "      <td>47</td>\n",
              "    </tr>\n",
              "    <tr>\n",
              "      <th>758</th>\n",
              "      <td>1406</td>\n",
              "      <td>200</td>\n",
              "      <td>2066-01-01</td>\n",
              "      <td>Physical Medicine - Rehab</td>\n",
              "      <td>DIAGNOSIS: , Left knee osteoarthritis.,HISTORY...</td>\n",
              "      <td>2066</td>\n",
              "      <td>200</td>\n",
              "      <td>F</td>\n",
              "      <td>2018-01-01</td>\n",
              "      <td>2018</td>\n",
              "      <td>48</td>\n",
              "    </tr>\n",
              "    <tr>\n",
              "      <th>1038</th>\n",
              "      <td>2001</td>\n",
              "      <td>284</td>\n",
              "      <td>2042-01-01</td>\n",
              "      <td>Consult - History and Phy.</td>\n",
              "      <td>REASON FOR VISIT: , This is a cosmetic consult...</td>\n",
              "      <td>2042</td>\n",
              "      <td>284</td>\n",
              "      <td>F</td>\n",
              "      <td>2018-01-01</td>\n",
              "      <td>2018</td>\n",
              "      <td>24</td>\n",
              "    </tr>\n",
              "    <tr>\n",
              "      <th>169</th>\n",
              "      <td>316</td>\n",
              "      <td>43</td>\n",
              "      <td>2063-01-01</td>\n",
              "      <td>Consult - History and Phy.</td>\n",
              "      <td>HISTORY OF PRESENT ILLNESS:,  Ms. A is a 55-ye...</td>\n",
              "      <td>2063</td>\n",
              "      <td>43</td>\n",
              "      <td>F</td>\n",
              "      <td>2018-01-01</td>\n",
              "      <td>2018</td>\n",
              "      <td>45</td>\n",
              "    </tr>\n",
              "    <tr>\n",
              "      <th>169</th>\n",
              "      <td>316</td>\n",
              "      <td>43</td>\n",
              "      <td>2063-01-01</td>\n",
              "      <td>Consult - History and Phy.</td>\n",
              "      <td>HISTORY OF PRESENT ILLNESS:,  Ms. A is a 55-ye...</td>\n",
              "      <td>2063</td>\n",
              "      <td>43</td>\n",
              "      <td>F</td>\n",
              "      <td>2018-01-01</td>\n",
              "      <td>2018</td>\n",
              "      <td>45</td>\n",
              "    </tr>\n",
              "  </tbody>\n",
              "</table>\n",
              "</div>"
            ],
            "text/plain": [
              "      Unnamed: 0_x  subject_id   chartdate  ...         dob dob_year  age_year\n",
              "36              69           9  2065-01-01  ...  2018-01-01     2018        47\n",
              "758           1406         200  2066-01-01  ...  2018-01-01     2018        48\n",
              "1038          2001         284  2042-01-01  ...  2018-01-01     2018        24\n",
              "169            316          43  2063-01-01  ...  2018-01-01     2018        45\n",
              "169            316          43  2063-01-01  ...  2018-01-01     2018        45\n",
              "\n",
              "[5 rows x 11 columns]"
            ]
          },
          "metadata": {
            "tags": []
          },
          "execution_count": 70
        }
      ]
    },
    {
      "cell_type": "code",
      "metadata": {
        "colab": {
          "base_uri": "https://localhost:8080/",
          "height": 204
        },
        "id": "n-ds8nosVfgR",
        "outputId": "4687bc84-8733-4a78-e3b9-86fc62184559"
      },
      "source": [
        "train_data = train_data.rename(columns={'Unnamed: 0_x': \"name\"})\n",
        "train_data = train_data[['name', 'text']]\n",
        "train_data.reset_index(drop=True, inplace=True)\n",
        "train_data.head()"
      ],
      "execution_count": null,
      "outputs": [
        {
          "output_type": "execute_result",
          "data": {
            "text/html": [
              "<div>\n",
              "<style scoped>\n",
              "    .dataframe tbody tr th:only-of-type {\n",
              "        vertical-align: middle;\n",
              "    }\n",
              "\n",
              "    .dataframe tbody tr th {\n",
              "        vertical-align: top;\n",
              "    }\n",
              "\n",
              "    .dataframe thead th {\n",
              "        text-align: right;\n",
              "    }\n",
              "</style>\n",
              "<table border=\"1\" class=\"dataframe\">\n",
              "  <thead>\n",
              "    <tr style=\"text-align: right;\">\n",
              "      <th></th>\n",
              "      <th>name</th>\n",
              "      <th>text</th>\n",
              "    </tr>\n",
              "  </thead>\n",
              "  <tbody>\n",
              "    <tr>\n",
              "      <th>0</th>\n",
              "      <td>69</td>\n",
              "      <td>HISTORY OF PRESENT ILLNESS:,  This 57-year-old...</td>\n",
              "    </tr>\n",
              "    <tr>\n",
              "      <th>1</th>\n",
              "      <td>1406</td>\n",
              "      <td>DIAGNOSIS: , Left knee osteoarthritis.,HISTORY...</td>\n",
              "    </tr>\n",
              "    <tr>\n",
              "      <th>2</th>\n",
              "      <td>2001</td>\n",
              "      <td>REASON FOR VISIT: , This is a cosmetic consult...</td>\n",
              "    </tr>\n",
              "    <tr>\n",
              "      <th>3</th>\n",
              "      <td>316</td>\n",
              "      <td>HISTORY OF PRESENT ILLNESS:,  Ms. A is a 55-ye...</td>\n",
              "    </tr>\n",
              "    <tr>\n",
              "      <th>4</th>\n",
              "      <td>316</td>\n",
              "      <td>HISTORY OF PRESENT ILLNESS:,  Ms. A is a 55-ye...</td>\n",
              "    </tr>\n",
              "  </tbody>\n",
              "</table>\n",
              "</div>"
            ],
            "text/plain": [
              "   name                                               text\n",
              "0    69  HISTORY OF PRESENT ILLNESS:,  This 57-year-old...\n",
              "1  1406  DIAGNOSIS: , Left knee osteoarthritis.,HISTORY...\n",
              "2  2001  REASON FOR VISIT: , This is a cosmetic consult...\n",
              "3   316  HISTORY OF PRESENT ILLNESS:,  Ms. A is a 55-ye...\n",
              "4   316  HISTORY OF PRESENT ILLNESS:,  Ms. A is a 55-ye..."
            ]
          },
          "metadata": {
            "tags": []
          },
          "execution_count": 71
        }
      ]
    },
    {
      "cell_type": "code",
      "metadata": {
        "id": "HvrkaDbBVfgU"
      },
      "source": [
        "# Remove duplicates if we have them. \n",
        "train_data = train_data.drop_duplicates(['text'])\n",
        "\n",
        "# Save the data so that it can be imported into MedCATtrainer\n",
        "train_data.to_csv(DATA_DIR + \"train_data.csv\", index=False)"
      ],
      "execution_count": null,
      "outputs": []
    }
  ]
}