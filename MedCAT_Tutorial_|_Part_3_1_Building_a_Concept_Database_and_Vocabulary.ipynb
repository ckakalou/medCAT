{
  "nbformat": 4,
  "nbformat_minor": 0,
  "metadata": {
    "kernelspec": {
      "display_name": "Python 3",
      "language": "python",
      "name": "python3"
    },
    "language_info": {
      "codemirror_mode": {
        "name": "ipython",
        "version": 3
      },
      "file_extension": ".py",
      "mimetype": "text/x-python",
      "name": "python",
      "nbconvert_exporter": "python",
      "pygments_lexer": "ipython3",
      "version": "3.7.0"
    },
    "colab": {
      "name": "MedCAT Tutorial | Part 3.1 Building a Concept Database and Vocabulary.ipynb",
      "provenance": [],
      "collapsed_sections": [],
      "include_colab_link": true
    }
  },
  "cells": [
    {
      "cell_type": "markdown",
      "metadata": {
        "id": "view-in-github",
        "colab_type": "text"
      },
      "source": [
        "<a href=\"https://colab.research.google.com/github/ckakalou/medCAT/blob/main/MedCAT_Tutorial_%7C_Part_3_1_Building_a_Concept_Database_and_Vocabulary.ipynb\" target=\"_parent\"><img src=\"https://colab.research.google.com/assets/colab-badge.svg\" alt=\"Open In Colab\"/></a>"
      ]
    },
    {
      "cell_type": "markdown",
      "metadata": {
        "id": "i4bQfWfXlKWJ"
      },
      "source": [
        "### First we need to install MedCAT"
      ]
    },
    {
      "cell_type": "code",
      "metadata": {
        "id": "OlMQ2iQrlG69",
        "colab": {
          "base_uri": "https://localhost:8080/"
        },
        "outputId": "24c7b690-4ece-4884-a3fa-baf8d36009d1"
      },
      "source": [
        "! pip install --upgrade medcat\n",
        "# Get the scispacy model\n",
        "! pip install https://s3-us-west-2.amazonaws.com/ai2-s2-scispacy/releases/v0.3.0/en_core_sci_md-0.3.0.tar.gz"
      ],
      "execution_count": null,
      "outputs": [
        {
          "output_type": "stream",
          "text": [
            "Requirement already up-to-date: medcat in /usr/local/lib/python3.7/dist-packages (1.0.30)\n",
            "Requirement already satisfied, skipping upgrade: numpy~=1.20 in /usr/local/lib/python3.7/dist-packages (from medcat) (1.20.3)\n",
            "Requirement already satisfied, skipping upgrade: gensim~=3.8 in /usr/local/lib/python3.7/dist-packages (from medcat) (3.8.3)\n",
            "Requirement already satisfied, skipping upgrade: scipy~=1.5 in /usr/local/lib/python3.7/dist-packages (from medcat) (1.6.3)\n",
            "Requirement already satisfied, skipping upgrade: spacy==2.3.4 in /usr/local/lib/python3.7/dist-packages (from medcat) (2.3.4)\n",
            "Requirement already satisfied, skipping upgrade: Flask~=1.1 in /usr/local/lib/python3.7/dist-packages (from medcat) (1.1.4)\n",
            "Requirement already satisfied, skipping upgrade: elasticsearch~=7.10 in /usr/local/lib/python3.7/dist-packages (from medcat) (7.13.1)\n",
            "Requirement already satisfied, skipping upgrade: pandas~=1.0 in /usr/local/lib/python3.7/dist-packages (from medcat) (1.1.5)\n",
            "Requirement already satisfied, skipping upgrade: transformers~=4.5.1 in /usr/local/lib/python3.7/dist-packages (from medcat) (4.5.1)\n",
            "Requirement already satisfied, skipping upgrade: datasets~=1.6.0 in /usr/local/lib/python3.7/dist-packages (from medcat) (1.6.2)\n",
            "Requirement already satisfied, skipping upgrade: torch~=1.8.1 in /usr/local/lib/python3.7/dist-packages (from medcat) (1.8.1+cu101)\n",
            "Requirement already satisfied, skipping upgrade: sklearn~=0.0 in /usr/local/lib/python3.7/dist-packages (from medcat) (0.0)\n",
            "Requirement already satisfied, skipping upgrade: dill~=0.3.3 in /usr/local/lib/python3.7/dist-packages (from medcat) (0.3.3)\n",
            "Requirement already satisfied, skipping upgrade: six>=1.5.0 in /usr/local/lib/python3.7/dist-packages (from gensim~=3.8->medcat) (1.15.0)\n",
            "Requirement already satisfied, skipping upgrade: smart-open>=1.8.1 in /usr/local/lib/python3.7/dist-packages (from gensim~=3.8->medcat) (5.0.0)\n",
            "Requirement already satisfied, skipping upgrade: cymem<2.1.0,>=2.0.2 in /usr/local/lib/python3.7/dist-packages (from spacy==2.3.4->medcat) (2.0.5)\n",
            "Requirement already satisfied, skipping upgrade: plac<1.2.0,>=0.9.6 in /usr/local/lib/python3.7/dist-packages (from spacy==2.3.4->medcat) (1.1.3)\n",
            "Requirement already satisfied, skipping upgrade: wasabi<1.1.0,>=0.4.0 in /usr/local/lib/python3.7/dist-packages (from spacy==2.3.4->medcat) (0.8.2)\n",
            "Requirement already satisfied, skipping upgrade: requests<3.0.0,>=2.13.0 in /usr/local/lib/python3.7/dist-packages (from spacy==2.3.4->medcat) (2.23.0)\n",
            "Requirement already satisfied, skipping upgrade: murmurhash<1.1.0,>=0.28.0 in /usr/local/lib/python3.7/dist-packages (from spacy==2.3.4->medcat) (1.0.5)\n",
            "Requirement already satisfied, skipping upgrade: thinc<7.5.0,>=7.4.1 in /usr/local/lib/python3.7/dist-packages (from spacy==2.3.4->medcat) (7.4.5)\n",
            "Requirement already satisfied, skipping upgrade: srsly<1.1.0,>=1.0.2 in /usr/local/lib/python3.7/dist-packages (from spacy==2.3.4->medcat) (1.0.5)\n",
            "Requirement already satisfied, skipping upgrade: blis<0.8.0,>=0.4.0; python_version >= \"3.6\" in /usr/local/lib/python3.7/dist-packages (from spacy==2.3.4->medcat) (0.4.1)\n",
            "Requirement already satisfied, skipping upgrade: tqdm<5.0.0,>=4.38.0 in /usr/local/lib/python3.7/dist-packages (from spacy==2.3.4->medcat) (4.41.1)\n",
            "Requirement already satisfied, skipping upgrade: preshed<3.1.0,>=3.0.2 in /usr/local/lib/python3.7/dist-packages (from spacy==2.3.4->medcat) (3.0.5)\n",
            "Requirement already satisfied, skipping upgrade: catalogue<1.1.0,>=0.0.7 in /usr/local/lib/python3.7/dist-packages (from spacy==2.3.4->medcat) (1.0.0)\n",
            "Requirement already satisfied, skipping upgrade: setuptools in /usr/local/lib/python3.7/dist-packages (from spacy==2.3.4->medcat) (57.0.0)\n",
            "Requirement already satisfied, skipping upgrade: click<8.0,>=5.1 in /usr/local/lib/python3.7/dist-packages (from Flask~=1.1->medcat) (7.1.2)\n",
            "Requirement already satisfied, skipping upgrade: Werkzeug<2.0,>=0.15 in /usr/local/lib/python3.7/dist-packages (from Flask~=1.1->medcat) (1.0.1)\n",
            "Requirement already satisfied, skipping upgrade: Jinja2<3.0,>=2.10.1 in /usr/local/lib/python3.7/dist-packages (from Flask~=1.1->medcat) (2.11.3)\n",
            "Requirement already satisfied, skipping upgrade: itsdangerous<2.0,>=0.24 in /usr/local/lib/python3.7/dist-packages (from Flask~=1.1->medcat) (1.1.0)\n",
            "Requirement already satisfied, skipping upgrade: certifi in /usr/local/lib/python3.7/dist-packages (from elasticsearch~=7.10->medcat) (2020.12.5)\n",
            "Requirement already satisfied, skipping upgrade: urllib3<2,>=1.21.1 in /usr/local/lib/python3.7/dist-packages (from elasticsearch~=7.10->medcat) (1.24.3)\n",
            "Requirement already satisfied, skipping upgrade: python-dateutil>=2.7.3 in /usr/local/lib/python3.7/dist-packages (from pandas~=1.0->medcat) (2.8.1)\n",
            "Requirement already satisfied, skipping upgrade: pytz>=2017.2 in /usr/local/lib/python3.7/dist-packages (from pandas~=1.0->medcat) (2018.9)\n",
            "Requirement already satisfied, skipping upgrade: regex!=2019.12.17 in /usr/local/lib/python3.7/dist-packages (from transformers~=4.5.1->medcat) (2019.12.20)\n",
            "Requirement already satisfied, skipping upgrade: filelock in /usr/local/lib/python3.7/dist-packages (from transformers~=4.5.1->medcat) (3.0.12)\n",
            "Requirement already satisfied, skipping upgrade: packaging in /usr/local/lib/python3.7/dist-packages (from transformers~=4.5.1->medcat) (20.9)\n",
            "Requirement already satisfied, skipping upgrade: importlib-metadata; python_version < \"3.8\" in /usr/local/lib/python3.7/dist-packages (from transformers~=4.5.1->medcat) (4.0.1)\n",
            "Requirement already satisfied, skipping upgrade: tokenizers<0.11,>=0.10.1 in /usr/local/lib/python3.7/dist-packages (from transformers~=4.5.1->medcat) (0.10.3)\n",
            "Requirement already satisfied, skipping upgrade: sacremoses in /usr/local/lib/python3.7/dist-packages (from transformers~=4.5.1->medcat) (0.0.45)\n",
            "Requirement already satisfied, skipping upgrade: fsspec in /usr/local/lib/python3.7/dist-packages (from datasets~=1.6.0->medcat) (2021.6.0)\n",
            "Requirement already satisfied, skipping upgrade: huggingface-hub<0.1.0 in /usr/local/lib/python3.7/dist-packages (from datasets~=1.6.0->medcat) (0.0.10)\n",
            "Requirement already satisfied, skipping upgrade: multiprocess in /usr/local/lib/python3.7/dist-packages (from datasets~=1.6.0->medcat) (0.70.11.1)\n",
            "Requirement already satisfied, skipping upgrade: pyarrow>=1.0.0<4.0.0 in /usr/local/lib/python3.7/dist-packages (from datasets~=1.6.0->medcat) (3.0.0)\n",
            "Requirement already satisfied, skipping upgrade: xxhash in /usr/local/lib/python3.7/dist-packages (from datasets~=1.6.0->medcat) (2.0.2)\n",
            "Requirement already satisfied, skipping upgrade: typing-extensions in /usr/local/lib/python3.7/dist-packages (from torch~=1.8.1->medcat) (3.7.4.3)\n",
            "Requirement already satisfied, skipping upgrade: scikit-learn in /usr/local/lib/python3.7/dist-packages (from sklearn~=0.0->medcat) (0.22.2.post1)\n",
            "Requirement already satisfied, skipping upgrade: idna<3,>=2.5 in /usr/local/lib/python3.7/dist-packages (from requests<3.0.0,>=2.13.0->spacy==2.3.4->medcat) (2.10)\n",
            "Requirement already satisfied, skipping upgrade: chardet<4,>=3.0.2 in /usr/local/lib/python3.7/dist-packages (from requests<3.0.0,>=2.13.0->spacy==2.3.4->medcat) (3.0.4)\n",
            "Requirement already satisfied, skipping upgrade: MarkupSafe>=0.23 in /usr/local/lib/python3.7/dist-packages (from Jinja2<3.0,>=2.10.1->Flask~=1.1->medcat) (2.0.1)\n",
            "Requirement already satisfied, skipping upgrade: pyparsing>=2.0.2 in /usr/local/lib/python3.7/dist-packages (from packaging->transformers~=4.5.1->medcat) (2.4.7)\n",
            "Requirement already satisfied, skipping upgrade: zipp>=0.5 in /usr/local/lib/python3.7/dist-packages (from importlib-metadata; python_version < \"3.8\"->transformers~=4.5.1->medcat) (3.4.1)\n",
            "Requirement already satisfied, skipping upgrade: joblib in /usr/local/lib/python3.7/dist-packages (from sacremoses->transformers~=4.5.1->medcat) (1.0.1)\n",
            "Collecting https://s3-us-west-2.amazonaws.com/ai2-s2-scispacy/releases/v0.3.0/en_core_sci_md-0.3.0.tar.gz\n",
            "  Using cached https://s3-us-west-2.amazonaws.com/ai2-s2-scispacy/releases/v0.3.0/en_core_sci_md-0.3.0.tar.gz\n",
            "Requirement already satisfied (use --upgrade to upgrade): en-core-sci-md==0.3.0 from https://s3-us-west-2.amazonaws.com/ai2-s2-scispacy/releases/v0.3.0/en_core_sci_md-0.3.0.tar.gz in /usr/local/lib/python3.7/dist-packages\n",
            "Requirement already satisfied: spacy>=2.3.1 in /usr/local/lib/python3.7/dist-packages (from en-core-sci-md==0.3.0) (2.3.4)\n",
            "Requirement already satisfied: thinc<7.5.0,>=7.4.1 in /usr/local/lib/python3.7/dist-packages (from spacy>=2.3.1->en-core-sci-md==0.3.0) (7.4.5)\n",
            "Requirement already satisfied: cymem<2.1.0,>=2.0.2 in /usr/local/lib/python3.7/dist-packages (from spacy>=2.3.1->en-core-sci-md==0.3.0) (2.0.5)\n",
            "Requirement already satisfied: requests<3.0.0,>=2.13.0 in /usr/local/lib/python3.7/dist-packages (from spacy>=2.3.1->en-core-sci-md==0.3.0) (2.23.0)\n",
            "Requirement already satisfied: srsly<1.1.0,>=1.0.2 in /usr/local/lib/python3.7/dist-packages (from spacy>=2.3.1->en-core-sci-md==0.3.0) (1.0.5)\n",
            "Requirement already satisfied: numpy>=1.15.0 in /usr/local/lib/python3.7/dist-packages (from spacy>=2.3.1->en-core-sci-md==0.3.0) (1.20.3)\n",
            "Requirement already satisfied: catalogue<1.1.0,>=0.0.7 in /usr/local/lib/python3.7/dist-packages (from spacy>=2.3.1->en-core-sci-md==0.3.0) (1.0.0)\n",
            "Requirement already satisfied: blis<0.8.0,>=0.4.0; python_version >= \"3.6\" in /usr/local/lib/python3.7/dist-packages (from spacy>=2.3.1->en-core-sci-md==0.3.0) (0.4.1)\n",
            "Requirement already satisfied: tqdm<5.0.0,>=4.38.0 in /usr/local/lib/python3.7/dist-packages (from spacy>=2.3.1->en-core-sci-md==0.3.0) (4.41.1)\n",
            "Requirement already satisfied: plac<1.2.0,>=0.9.6 in /usr/local/lib/python3.7/dist-packages (from spacy>=2.3.1->en-core-sci-md==0.3.0) (1.1.3)\n",
            "Requirement already satisfied: murmurhash<1.1.0,>=0.28.0 in /usr/local/lib/python3.7/dist-packages (from spacy>=2.3.1->en-core-sci-md==0.3.0) (1.0.5)\n",
            "Requirement already satisfied: setuptools in /usr/local/lib/python3.7/dist-packages (from spacy>=2.3.1->en-core-sci-md==0.3.0) (57.0.0)\n",
            "Requirement already satisfied: preshed<3.1.0,>=3.0.2 in /usr/local/lib/python3.7/dist-packages (from spacy>=2.3.1->en-core-sci-md==0.3.0) (3.0.5)\n",
            "Requirement already satisfied: wasabi<1.1.0,>=0.4.0 in /usr/local/lib/python3.7/dist-packages (from spacy>=2.3.1->en-core-sci-md==0.3.0) (0.8.2)\n",
            "Requirement already satisfied: idna<3,>=2.5 in /usr/local/lib/python3.7/dist-packages (from requests<3.0.0,>=2.13.0->spacy>=2.3.1->en-core-sci-md==0.3.0) (2.10)\n",
            "Requirement already satisfied: certifi>=2017.4.17 in /usr/local/lib/python3.7/dist-packages (from requests<3.0.0,>=2.13.0->spacy>=2.3.1->en-core-sci-md==0.3.0) (2020.12.5)\n",
            "Requirement already satisfied: chardet<4,>=3.0.2 in /usr/local/lib/python3.7/dist-packages (from requests<3.0.0,>=2.13.0->spacy>=2.3.1->en-core-sci-md==0.3.0) (3.0.4)\n",
            "Requirement already satisfied: urllib3!=1.25.0,!=1.25.1,<1.26,>=1.21.1 in /usr/local/lib/python3.7/dist-packages (from requests<3.0.0,>=2.13.0->spacy>=2.3.1->en-core-sci-md==0.3.0) (1.24.3)\n",
            "Requirement already satisfied: importlib-metadata>=0.20; python_version < \"3.8\" in /usr/local/lib/python3.7/dist-packages (from catalogue<1.1.0,>=0.0.7->spacy>=2.3.1->en-core-sci-md==0.3.0) (4.0.1)\n",
            "Requirement already satisfied: typing-extensions>=3.6.4; python_version < \"3.8\" in /usr/local/lib/python3.7/dist-packages (from importlib-metadata>=0.20; python_version < \"3.8\"->catalogue<1.1.0,>=0.0.7->spacy>=2.3.1->en-core-sci-md==0.3.0) (3.7.4.3)\n",
            "Requirement already satisfied: zipp>=0.5 in /usr/local/lib/python3.7/dist-packages (from importlib-metadata>=0.20; python_version < \"3.8\"->catalogue<1.1.0,>=0.0.7->spacy>=2.3.1->en-core-sci-md==0.3.0) (3.4.1)\n",
            "Building wheels for collected packages: en-core-sci-md\n",
            "  Building wheel for en-core-sci-md (setup.py) ... \u001b[?25l\u001b[?25hdone\n",
            "  Created wheel for en-core-sci-md: filename=en_core_sci_md-0.3.0-cp37-none-any.whl size=79931147 sha256=ca242970f090161477a46aa480004cf8e22a2f10897ef05a19eca15a54d1cf88\n",
            "  Stored in directory: /root/.cache/pip/wheels/7e/1b/90/364b1e3c8f8c21241876892748fd737a6b3698f2632a9429ac\n",
            "Successfully built en-core-sci-md\n"
          ],
          "name": "stdout"
        }
      ]
    },
    {
      "cell_type": "markdown",
      "metadata": {
        "id": "LWScf8BW0BpY"
      },
      "source": [
        "**Restart the runtime if on colab, sometimes necessary after installing models**"
      ]
    },
    {
      "cell_type": "code",
      "metadata": {
        "id": "KByaUPYNk7gk"
      },
      "source": [
        "import pandas as pd\n",
        "import numpy as np\n",
        "import seaborn as sns\n",
        "from matplotlib import pyplot as plt\n",
        "\n",
        "from medcat.vocab import Vocab\n",
        "from medcat.cdb import CDB\n",
        "from medcat.config import Config\n",
        "from medcat.cdb_maker import CDBMaker\n",
        "from medcat.cat import CAT"
      ],
      "execution_count": null,
      "outputs": []
    },
    {
      "cell_type": "code",
      "metadata": {
        "id": "kKgZTiZxk7gp"
      },
      "source": [
        "!mkdir -p data\n",
        "DATA_DIR = \"./data/\""
      ],
      "execution_count": null,
      "outputs": []
    },
    {
      "cell_type": "code",
      "metadata": {
        "id": "IRLcv4dGIEbS",
        "colab": {
          "base_uri": "https://localhost:8080/"
        },
        "outputId": "5d33d0ce-6526-47a2-a25c-ac8c0a1fc52b"
      },
      "source": [
        "!wget https://raw.githubusercontent.com/CogStack/MedCAT/develop/tutorial/data/cdb_simple.csv -P ./data/\n",
        "!wget https://raw.githubusercontent.com/CogStack/MedCAT/develop/tutorial/data/cdb_advanced.csv -P ./data/\n",
        "!wget https://raw.githubusercontent.com/CogStack/MedCAT/master/tutorial/data/vocab_data.txt -P ./data/"
      ],
      "execution_count": null,
      "outputs": [
        {
          "output_type": "stream",
          "text": [
            "--2021-06-08 15:21:12--  https://raw.githubusercontent.com/CogStack/MedCAT/develop/tutorial/data/cdb_simple.csv\n",
            "Resolving raw.githubusercontent.com (raw.githubusercontent.com)... 185.199.108.133, 185.199.109.133, 185.199.110.133, ...\n",
            "Connecting to raw.githubusercontent.com (raw.githubusercontent.com)|185.199.108.133|:443... connected.\n",
            "HTTP request sent, awaiting response... 200 OK\n",
            "Length: 50 [text/plain]\n",
            "Saving to: ‘./data/cdb_simple.csv’\n",
            "\n",
            "\rcdb_simple.csv        0%[                    ]       0  --.-KB/s               \rcdb_simple.csv      100%[===================>]      50  --.-KB/s    in 0s      \n",
            "\n",
            "2021-06-08 15:21:12 (2.55 MB/s) - ‘./data/cdb_simple.csv’ saved [50/50]\n",
            "\n",
            "--2021-06-08 15:21:12--  https://raw.githubusercontent.com/CogStack/MedCAT/develop/tutorial/data/cdb_advanced.csv\n",
            "Resolving raw.githubusercontent.com (raw.githubusercontent.com)... 185.199.108.133, 185.199.109.133, 185.199.110.133, ...\n",
            "Connecting to raw.githubusercontent.com (raw.githubusercontent.com)|185.199.108.133|:443... connected.\n",
            "HTTP request sent, awaiting response... 200 OK\n",
            "Length: 150 [text/plain]\n",
            "Saving to: ‘./data/cdb_advanced.csv’\n",
            "\n",
            "cdb_advanced.csv    100%[===================>]     150  --.-KB/s    in 0s      \n",
            "\n",
            "2021-06-08 15:21:12 (6.17 MB/s) - ‘./data/cdb_advanced.csv’ saved [150/150]\n",
            "\n",
            "--2021-06-08 15:21:12--  https://raw.githubusercontent.com/CogStack/MedCAT/master/tutorial/data/vocab_data.txt\n",
            "Resolving raw.githubusercontent.com (raw.githubusercontent.com)... 185.199.108.133, 185.199.109.133, 185.199.110.133, ...\n",
            "Connecting to raw.githubusercontent.com (raw.githubusercontent.com)|185.199.108.133|:443... connected.\n",
            "HTTP request sent, awaiting response... 200 OK\n",
            "Length: 72 [text/plain]\n",
            "Saving to: ‘./data/vocab_data.txt’\n",
            "\n",
            "vocab_data.txt      100%[===================>]      72  --.-KB/s    in 0s      \n",
            "\n",
            "2021-06-08 15:21:12 (5.78 MB/s) - ‘./data/vocab_data.txt’ saved [72/72]\n",
            "\n"
          ],
          "name": "stdout"
        }
      ]
    },
    {
      "cell_type": "markdown",
      "metadata": {
        "id": "9POZ_dwsk7gu"
      },
      "source": [
        "# Building a Vocabulary\n",
        "\n",
        "The first of the two required models when running MedCAT is a Vocabulary model (Vocab). The model is used for two things: (1) Spell checking; and (2) Word Embedding. \n",
        "\n",
        "The Vocab is very simple and you can easily build it from a file that is structured as below:\n",
        "```\n",
        "<token>\\t<word_count>\\t<vector_embedding_separated_by_spaces>\n",
        "```\n",
        "`token` - Usually a word or subword if you are using Byte Pair Encoding or something similar.\n",
        "\n",
        "`word_count` - The count for this word in your dataset or in any large dataset (wikipedia also works nicely).\n",
        "\n",
        "`vector_embedding_separated_by_spaces` - precalculated vector embedding, can be from Word2Vec or BERT\n",
        "\n",
        "---\n",
        "An example with 3-dimension embedding would be:\n",
        "```\n",
        "house\t34444\t 0.3232 0.123213 1.231231\n",
        "dog\t14444\t0.76762 0.76767 1.45454\n",
        ".\n",
        ".\n",
        ".\n",
        "```\n",
        "The file is basically a TSV, but should not have any heading. \n",
        "\n",
        "---\n",
        "\n",
        "**NOTE**: If spelling is important for your use-case, take care that there are no misspelt words in the Vocab."
      ]
    },
    {
      "cell_type": "code",
      "metadata": {
        "id": "OgMSGHyhk7gv"
      },
      "source": [
        "# Let's have a look at an example, I've created a small vocabulary with only 2 words (the ones from above)\n",
        "# Let's try to create a vocabulary from this two words.\n",
        "\n",
        "vocab = Vocab()\n",
        "vocab.add_words(DATA_DIR +'vocab_data.txt', replace=True)"
      ],
      "execution_count": null,
      "outputs": []
    },
    {
      "cell_type": "markdown",
      "metadata": {
        "id": "xPl6ghXUk7gy"
      },
      "source": [
        "**And that is everything, with this we have built our vocab and no futher training is necessary.**\n",
        "\n",
        "---\n",
        "\n",
        "A couple of useful functions of the vocab are presented below"
      ]
    },
    {
      "cell_type": "code",
      "metadata": {
        "id": "HeVMPs5Zk7gy",
        "colab": {
          "base_uri": "https://localhost:8080/"
        },
        "outputId": "2d3b7262-71e8-4bc8-eaec-d6637aba2530"
      },
      "source": [
        "# To see the words in the vocab\n",
        "vocab.vocab.keys()"
      ],
      "execution_count": null,
      "outputs": [
        {
          "output_type": "execute_result",
          "data": {
            "text/plain": [
              "dict_keys(['house', 'dog'])"
            ]
          },
          "metadata": {
            "tags": []
          },
          "execution_count": 7
        }
      ]
    },
    {
      "cell_type": "code",
      "metadata": {
        "id": "SclVqlDgk7g2",
        "colab": {
          "base_uri": "https://localhost:8080/"
        },
        "outputId": "e9079a69-3b27-46c6-c2eb-4c6e34abac31"
      },
      "source": [
        "# If you want to add words manually (one by one) use:\n",
        "vocab.add_word(\"test\", cnt=31, vec=[1.42, 1.44, 1.55], replace=True)\n",
        "vocab.vocab.keys()"
      ],
      "execution_count": null,
      "outputs": [
        {
          "output_type": "execute_result",
          "data": {
            "text/plain": [
              "dict_keys(['house', 'dog', 'test'])"
            ]
          },
          "metadata": {
            "tags": []
          },
          "execution_count": 8
        }
      ]
    },
    {
      "cell_type": "code",
      "metadata": {
        "id": "JnCgpKrEk7g5",
        "colab": {
          "base_uri": "https://localhost:8080/"
        },
        "outputId": "4fbfec1a-b021-43f1-8052-2b1a4ae1672f"
      },
      "source": [
        "# To get a vector of word use:\n",
        "vocab.vec(\"house\")"
      ],
      "execution_count": null,
      "outputs": [
        {
          "output_type": "execute_result",
          "data": {
            "text/plain": [
              "array([0.3232  , 0.123213, 1.231231])"
            ]
          },
          "metadata": {
            "tags": []
          },
          "execution_count": 9
        }
      ]
    },
    {
      "cell_type": "code",
      "metadata": {
        "id": "bO4IEvrJk7g8",
        "colab": {
          "base_uri": "https://localhost:8080/"
        },
        "outputId": "a7f95d2b-aaa9-48ee-9d3f-5b92c2d759a3"
      },
      "source": [
        "# Or to get the count\n",
        "vocab['house']"
      ],
      "execution_count": null,
      "outputs": [
        {
          "output_type": "execute_result",
          "data": {
            "text/plain": [
              "34444"
            ]
          },
          "metadata": {
            "tags": []
          },
          "execution_count": 10
        }
      ]
    },
    {
      "cell_type": "code",
      "metadata": {
        "id": "fLg63Z9Yk7g-",
        "colab": {
          "base_uri": "https://localhost:8080/"
        },
        "outputId": "e2755df5-ee03-4d54-b740-6bd239bf91cd"
      },
      "source": [
        "# To check if a word is in the vocab:\n",
        "\"house\" in vocab"
      ],
      "execution_count": null,
      "outputs": [
        {
          "output_type": "execute_result",
          "data": {
            "text/plain": [
              "True"
            ]
          },
          "metadata": {
            "tags": []
          },
          "execution_count": 11
        }
      ]
    },
    {
      "cell_type": "markdown",
      "metadata": {
        "id": "xG3FCinSl_Sq"
      },
      "source": [
        "### Before we save the vocab model, we need to create the unigram table for negative sampling"
      ]
    },
    {
      "cell_type": "code",
      "metadata": {
        "id": "wdC8eennmSM4"
      },
      "source": [
        "# This is necessary after each change of the vocabulary (when we add new words)\n",
        "vocab.make_unigram_table()"
      ],
      "execution_count": null,
      "outputs": []
    },
    {
      "cell_type": "markdown",
      "metadata": {
        "id": "o6itJcEXk7hA"
      },
      "source": [
        "### Save the model"
      ]
    },
    {
      "cell_type": "code",
      "metadata": {
        "id": "RgRtW7eqk7hB"
      },
      "source": [
        "vocab.save(DATA_DIR + \"vocab.dat\")"
      ],
      "execution_count": null,
      "outputs": []
    },
    {
      "cell_type": "markdown",
      "metadata": {
        "id": "-YBbwcNUk7hD"
      },
      "source": [
        "### Load the model"
      ]
    },
    {
      "cell_type": "code",
      "metadata": {
        "id": "o_tOsE6ak7hE"
      },
      "source": [
        "vocab = Vocab.load(DATA_DIR + \"vocab.dat\")"
      ],
      "execution_count": null,
      "outputs": []
    },
    {
      "cell_type": "markdown",
      "metadata": {
        "id": "ptRmHln9k7hG"
      },
      "source": [
        "# Building the Concept Database (CDB)\n",
        "\n",
        "The second model we are going to need when using MedCAT is the Concept Database (CDB). This database holds a list of all concepts that we would like to detect and link to. For a lot of medical use-cases we would use giant databases like the UMLS or SNOMED CT. However, MedCAT can be used with any database no matter how big/small it is. \n",
        "\n",
        "To prepare the CDB we start off with a CSV with the following structure:\n",
        "```\n",
        "cui,name\n",
        "1,kidney failure\n",
        "7,CoVid 2\n",
        "7,coronavirus\n",
        "```\n",
        "This is the most basic version of the CSV file, it has only:\n",
        "\n",
        "`cui` - The concept unique identifier, this is simply an `ID` in your database.\n",
        "\n",
        "`name` - String/Name of that concept. It is important to write all possible names and abbreviations for a concept of interest.\n",
        "\n",
        "If you have a concept that can be recognised through multiple different names (like the one above with cui=7), you can simply add multiple rows with the same concept ID and MedCAT will merge that during the build phase.\n",
        "\n",
        "## The Full CSV Specification\n",
        "```\n",
        "cui,name,ontologies,name_status,type_ids,description\n",
        "1,Kidney Failure,SNOMED,P,T047,kidneys stop working\n",
        ".\n",
        ".\n",
        ".\n",
        "```\n",
        "The rest of the fields are optional, each can be included or left out in your CSV:\n",
        "\n",
        "`ontologies` - Source ontology, e.g. HPO, SNOMED, HPC,...\n",
        "\n",
        "`name_status` - Term type e.g. P - Primary Name. Primary names are important and I would always recommend to add this fields when creating your CDB. This will help distinguish between synonyms.\n",
        "\n",
        "`type_ids` - Semantic type identifier - e.g. T047 (taken from UMLS). A list of all semantic types can be found [here](https://metamap.nlm.nih.gov/Docs/SemanticTypes_2018AB.txt).\n",
        "\n",
        "\n",
        "`description` - Description of this concept\n",
        "\n",
        "***Note***: If one concept has multiple names, you can also separate the different names by a \"|\" - pipe - symbol "
      ]
    },
    {
      "cell_type": "code",
      "metadata": {
        "id": "y5IR-xFO4oph"
      },
      "source": [
        "cdb_simple = pd.read_csv(DATA_DIR + 'cdb_simple.csv')\n"
      ],
      "execution_count": null,
      "outputs": []
    },
    {
      "cell_type": "code",
      "metadata": {
        "colab": {
          "base_uri": "https://localhost:8080/",
          "height": 142
        },
        "id": "tHr26s3s4vJN",
        "outputId": "69aa48c6-25a8-4f5d-fe02-61889aba2753"
      },
      "source": [
        "cdb_simple"
      ],
      "execution_count": null,
      "outputs": [
        {
          "output_type": "execute_result",
          "data": {
            "text/html": [
              "<div>\n",
              "<style scoped>\n",
              "    .dataframe tbody tr th:only-of-type {\n",
              "        vertical-align: middle;\n",
              "    }\n",
              "\n",
              "    .dataframe tbody tr th {\n",
              "        vertical-align: top;\n",
              "    }\n",
              "\n",
              "    .dataframe thead th {\n",
              "        text-align: right;\n",
              "    }\n",
              "</style>\n",
              "<table border=\"1\" class=\"dataframe\">\n",
              "  <thead>\n",
              "    <tr style=\"text-align: right;\">\n",
              "      <th></th>\n",
              "      <th>cui</th>\n",
              "      <th>name</th>\n",
              "    </tr>\n",
              "  </thead>\n",
              "  <tbody>\n",
              "    <tr>\n",
              "      <th>0</th>\n",
              "      <td>1</td>\n",
              "      <td>kidney failure</td>\n",
              "    </tr>\n",
              "    <tr>\n",
              "      <th>1</th>\n",
              "      <td>7</td>\n",
              "      <td>CoVid 2</td>\n",
              "    </tr>\n",
              "    <tr>\n",
              "      <th>2</th>\n",
              "      <td>7</td>\n",
              "      <td>coronavirus</td>\n",
              "    </tr>\n",
              "  </tbody>\n",
              "</table>\n",
              "</div>"
            ],
            "text/plain": [
              "   cui            name\n",
              "0    1  kidney failure\n",
              "1    7         CoVid 2\n",
              "2    7     coronavirus"
            ]
          },
          "metadata": {
            "tags": []
          },
          "execution_count": 28
        }
      ]
    },
    {
      "cell_type": "markdown",
      "metadata": {
        "id": "Rasu5PajojYZ"
      },
      "source": [
        "Let's try building our own concept databse from a simple CSV"
      ]
    },
    {
      "cell_type": "code",
      "metadata": {
        "id": "y75WVeca08z3"
      },
      "source": [
        "# First initialise the default configuration\n",
        "config = Config()\n",
        "config.general['spacy_model'] = 'en_core_sci_md'\n",
        "maker = CDBMaker(config)"
      ],
      "execution_count": null,
      "outputs": []
    },
    {
      "cell_type": "code",
      "metadata": {
        "id": "op5-LDOfk7hH",
        "colab": {
          "base_uri": "https://localhost:8080/"
        },
        "outputId": "d60519ec-8fc3-4c04-b0d6-5d5815e86e75"
      },
      "source": [
        "# Create an array containing CSV files that will be used to build our CDB\n",
        "csv_path = [ DATA_DIR + 'cdb_advanced.csv', DATA_DIR + 'cdb_simple.csv',]\n",
        "\n",
        "# Create your CDB\n",
        "cdb = maker.prepare_csvs(csv_path, full_build=True)"
      ],
      "execution_count": null,
      "outputs": [
        {
          "output_type": "stream",
          "text": [
            "Started importing concepts from: ./data/cdb_advanced.csv\n",
            "Current progress: 0% at 0.000s per 0 rows\n",
            "Current progress: 50% at 0.021s per 0 rows\n",
            "Started importing concepts from: ./data/cdb_simple.csv\n",
            "Current progress: 0% at 0.000s per 0 rows\n",
            "Current progress: 33% at 0.007s per 0 rows\n",
            "Current progress: 67% at 0.007s per 0 rows\n"
          ],
          "name": "stderr"
        }
      ]
    },
    {
      "cell_type": "markdown",
      "metadata": {
        "id": "08agsFBnk7hQ"
      },
      "source": [
        "**That is all, nothing else is necessary to build the CDB**\n",
        "\n",
        "---\n",
        "\n",
        "Some useful functions of the cdb are below"
      ]
    },
    {
      "cell_type": "code",
      "metadata": {
        "id": "lwlOBilek7hJ",
        "colab": {
          "base_uri": "https://localhost:8080/"
        },
        "outputId": "62443d9c-69cc-4f86-8f16-d91afb4f4d32"
      },
      "source": [
        "# To display all names and cui in the db\n",
        "print(cdb.name2cuis)"
      ],
      "execution_count": null,
      "outputs": [
        {
          "output_type": "stream",
          "text": [
            "{'kidney~failure': ['1'], 'failure~of~kidneys': ['1'], 'failure~of~kidney': ['1'], 'kf': ['1'], 'k~.~failure': ['1'], 'covid~2': ['7'], 'coronavirus': ['7']}\n"
          ],
          "name": "stdout"
        }
      ]
    },
    {
      "cell_type": "code",
      "metadata": {
        "id": "uD3AYqqkk7hQ",
        "colab": {
          "base_uri": "https://localhost:8080/"
        },
        "outputId": "1ae0195d-5434-475f-b564-38c8c6bbdd03"
      },
      "source": [
        "# To display all unique cuis and corresponding names in the db \n",
        "print(cdb.cui2names)"
      ],
      "execution_count": null,
      "outputs": [
        {
          "output_type": "stream",
          "text": [
            "{'1': {'k~.~failure', 'failure~of~kidneys', 'kidney~failure', 'kf', 'failure~of~kidney'}, '7': {'covid~2', 'coronavirus'}}\n"
          ],
          "name": "stdout"
        }
      ]
    },
    {
      "cell_type": "code",
      "metadata": {
        "colab": {
          "base_uri": "https://localhost:8080/"
        },
        "id": "GWTRmz_duRT2",
        "outputId": "f25cf84a-092b-4ff5-fd3a-078ac5f297fb"
      },
      "source": [
        "# To display cui to preferred name\n",
        "print(cdb.cui2preferred_name)\n"
      ],
      "execution_count": null,
      "outputs": [
        {
          "output_type": "stream",
          "text": [
            "{'1': 'Kidney Failure'}\n"
          ],
          "name": "stdout"
        }
      ]
    },
    {
      "cell_type": "code",
      "metadata": {
        "id": "j18tyQ2Kk7hV",
        "colab": {
          "base_uri": "https://localhost:8080/"
        },
        "outputId": "616c4f6a-0074-4c0f-d4ee-e6ae3273252b"
      },
      "source": [
        "# We have a link from cui to type ids\n",
        "print(cdb.cui2type_ids)\n"
      ],
      "execution_count": null,
      "outputs": [
        {
          "output_type": "stream",
          "text": [
            "{'1': {'T047'}, '7': set()}\n"
          ],
          "name": "stdout"
        }
      ]
    },
    {
      "cell_type": "markdown",
      "metadata": {
        "id": "Lpx7zGvwk7ha"
      },
      "source": [
        "### Save the model"
      ]
    },
    {
      "cell_type": "code",
      "metadata": {
        "id": "fC01maOzk7ha"
      },
      "source": [
        "cdb.save(DATA_DIR + \"cdb.dat\")"
      ],
      "execution_count": null,
      "outputs": []
    },
    {
      "cell_type": "markdown",
      "metadata": {
        "id": "97uiDwvAk7hc"
      },
      "source": [
        "### Load the model"
      ]
    },
    {
      "cell_type": "code",
      "metadata": {
        "id": "J9Ft8PbFk7hc"
      },
      "source": [
        "cdb = CDB.load(DATA_DIR + \"cdb.dat\")"
      ],
      "execution_count": null,
      "outputs": []
    },
    {
      "cell_type": "markdown",
      "metadata": {
        "id": "9fwiKys4k7he"
      },
      "source": [
        "# End\n",
        "\n",
        "This is everything you need to create your own MedCAT models. In the next notebook you will see how to train and use these models to annotate documents. "
      ]
    }
  ]
}